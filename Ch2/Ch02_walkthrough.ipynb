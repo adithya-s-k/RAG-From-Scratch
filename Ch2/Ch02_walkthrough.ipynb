{
  "cells": [
    {
      "cell_type": "code",
      "execution_count": 1,
      "metadata": {
        "colab": {
          "base_uri": "https://localhost:8080/"
        },
        "id": "j3o5lm4Vr_6c",
        "outputId": "1b08d06c-d160-4691-e3d9-b67cf165d47f"
      },
      "outputs": [],
      "source": [
        "#!pip install openai\n",
        "#!pip install tiktoken\n",
        "#!pip install pymupdf\n",
        "#!pip install \"unstructured[all-docs]\"\n",
        "#!pip install tesseract\n",
        "#! apt install tesseract-ocr\n",
        "#! apt install libtesseract-dev"
      ]
    },
    {
      "cell_type": "code",
      "execution_count": 2,
      "metadata": {
        "colab": {
          "base_uri": "https://localhost:8080/"
        },
        "id": "PRDnzgHftRRT",
        "outputId": "6a3fdccc-b738-4636-9471-7e5a99d55e68"
      },
      "outputs": [],
      "source": [
        "#Libraries to be installed\n",
        "#!sudo apt-get update\n",
        "#!apt-get install poppler-utils"
      ]
    },
    {
      "cell_type": "markdown",
      "metadata": {
        "id": "zNXqDlJksXQL"
      },
      "source": [
        "## 2.1 Extracting Information For Document Comprehension"
      ]
    },
    {
      "cell_type": "markdown",
      "metadata": {
        "id": "fco7GEQYsg5u"
      },
      "source": [
        "### Extracting using PyMuPDF"
      ]
    },
    {
      "cell_type": "code",
      "execution_count": 2,
      "metadata": {
        "colab": {
          "base_uri": "https://localhost:8080/"
        },
        "id": "1mkdIWwpsUxI",
        "outputId": "ab519140-e466-4b92-f2a0-001493f6e84b"
      },
      "outputs": [
        {
          "name": "stdout",
          "output_type": "stream",
          "text": [
            "AMAZON.COM\n"
          ]
        }
      ],
      "source": [
        "import requests\n",
        "import fitz\n",
        "import io\n",
        "\n",
        "url = \"https://s2.q4cdn.com/299287126/files/doc_financials/2023/q1/Q1-2023-Amazon-Earnings-Release.pdf\"\n",
        "request = requests.get(url)\n",
        "filestream = io.BytesIO(request.content)\n",
        "with fitz.open(stream=filestream, filetype=\"pdf\") as doc:\n",
        "    text = \"\"\n",
        "    for page in doc:\n",
        "        text += page.get_text()\n",
        "print(text[:10])"
      ]
    },
    {
      "cell_type": "markdown",
      "metadata": {
        "id": "hhLdg9JuslEm"
      },
      "source": [
        "### Extracting using unstructured.io"
      ]
    },
    {
      "cell_type": "code",
      "execution_count": 3,
      "metadata": {
        "colab": {
          "base_uri": "https://localhost:8080/"
        },
        "id": "a4lJoWrLsj5F",
        "outputId": "a7d3d327-68d4-4f2f-a399-9a29ca81d991"
      },
      "outputs": [
        {
          "name": "stdout",
          "output_type": "stream",
          "text": [
            "--2024-04-24 01:24:23--  https://s2.q4cdn.com/299287126/files/doc_financials/2023/q1/Q1-2023-Amazon-Earnings-Release.pdf\n",
            "Resolving s2.q4cdn.com (s2.q4cdn.com)... 185.172.149.132, 2a0b:4d07:201::1\n",
            "Connecting to s2.q4cdn.com (s2.q4cdn.com)|185.172.149.132|:443... connected.\n",
            "HTTP request sent, awaiting response... 200 OK\n",
            "Length: 283958 (277K) [application/pdf]\n",
            "Saving to: ‘Q1-2023-Amazon-Earnings-Release.pdf’\n",
            "\n",
            "Q1-2023-Amazon-Earn 100%[===================>] 277.30K  --.-KB/s    in 0.05s   \n",
            "\n",
            "2024-04-24 01:24:23 (5.06 MB/s) - ‘Q1-2023-Amazon-Earnings-Release.pdf’ saved [283958/283958]\n",
            "\n"
          ]
        }
      ],
      "source": [
        "!wget https://s2.q4cdn.com/299287126/files/doc_financials/2023/q1/Q1-2023-Amazon-Earnings-Release.pdf"
      ]
    },
    {
      "cell_type": "code",
      "execution_count": 6,
      "metadata": {
        "colab": {
          "base_uri": "https://localhost:8080/",
          "height": 185,
          "referenced_widgets": [
            "6f932367924646fcb93c2517491192da",
            "d8bebd6c2b92459990e19d3690004edf",
            "988bad5b3fe146c1842eb4893fb13c81",
            "603551e04dd543ea9c12564c351ce745",
            "fabd5a8da2c1435fab2c9513817cb108",
            "c94264912f654554b57f8848d0acbf0f",
            "901622d84a504a71b1341c342e3ab073",
            "10f7d377381d406583866af0e012d24d",
            "6189b8d4a230445ba1067e6afdbd129f",
            "d68a72711a2a47ca98403be67640a8f2",
            "b0cec9e5ffeb4d71969014bd58aa402a",
            "145d4ecf0e434b74b8b68ae3edfdff2c",
            "0dc2dff35bc14f8880f47fd83ec796a3",
            "23d7f519b8674ff38c31089eff4f29b7",
            "0ba8f9e43e7949eeb6e2284a5767c046",
            "84646289379d49d0adced50a03fae9d3",
            "c9b5d4c63f354d6ab0612fd4affc0405",
            "d1bf33abe999403b8a31bd70f7e016c1",
            "eb469542bb8a4b9bb7a5cc7649c89c41",
            "7549ad4b642642269476f1d31a3a02e5",
            "21e61cdfe16f4adfaf9caa250041cb9f",
            "2d5524c53add4b038f17d865cf907afe",
            "f69968ff960a4a30a96871463246f875",
            "42bb5d2761da40eeb4149ee371e37412",
            "1c895f46b3c348648305b43f29fd6f24",
            "d47970efad814011a432c2292bd620a6",
            "6ca2798e845e4afcb83892d881e12e65",
            "85f96a97ce564721a806fb38ea5e7405",
            "1ff6facaa49b42ffba4fc054db1f1023",
            "d62f74fed66649e3b38bee8e03a48c05",
            "9c478ffe783f415893ee450e424373ef",
            "40d8879cb2534c8ab639c4335772c750",
            "a13a8f8ce94849158ca5d218073eadc4"
          ]
        },
        "id": "qzksRBMds5-_",
        "outputId": "283930c0-31ac-4728-fd07-15a4f78d98f0"
      },
      "outputs": [
        {
          "data": {
            "application/vnd.jupyter.widget-view+json": {
              "model_id": "6f932367924646fcb93c2517491192da",
              "version_major": 2,
              "version_minor": 0
            },
            "text/plain": [
              "config.json:   0%|          | 0.00/1.47k [00:00<?, ?B/s]"
            ]
          },
          "metadata": {},
          "output_type": "display_data"
        },
        {
          "data": {
            "application/vnd.jupyter.widget-view+json": {
              "model_id": "145d4ecf0e434b74b8b68ae3edfdff2c",
              "version_major": 2,
              "version_minor": 0
            },
            "text/plain": [
              "model.safetensors:   0%|          | 0.00/115M [00:00<?, ?B/s]"
            ]
          },
          "metadata": {},
          "output_type": "display_data"
        },
        {
          "data": {
            "application/vnd.jupyter.widget-view+json": {
              "model_id": "f69968ff960a4a30a96871463246f875",
              "version_major": 2,
              "version_minor": 0
            },
            "text/plain": [
              "model.safetensors:   0%|          | 0.00/46.8M [00:00<?, ?B/s]"
            ]
          },
          "metadata": {},
          "output_type": "display_data"
        },
        {
          "name": "stderr",
          "output_type": "stream",
          "text": [
            "Some weights of the model checkpoint at microsoft/table-transformer-structure-recognition were not used when initializing TableTransformerForObjectDetection: ['model.backbone.conv_encoder.model.layer2.0.downsample.1.num_batches_tracked', 'model.backbone.conv_encoder.model.layer3.0.downsample.1.num_batches_tracked', 'model.backbone.conv_encoder.model.layer4.0.downsample.1.num_batches_tracked']\n",
            "- This IS expected if you are initializing TableTransformerForObjectDetection from the checkpoint of a model trained on another task or with another architecture (e.g. initializing a BertForSequenceClassification model from a BertForPreTraining model).\n",
            "- This IS NOT expected if you are initializing TableTransformerForObjectDetection from the checkpoint of a model that you expect to be exactly identical (initializing a BertForSequenceClassification model from a BertForSequenceClassification model).\n"
          ]
        }
      ],
      "source": [
        "from unstructured.partition.pdf import partition_pdf\n",
        "strategy = \"hi_res\" # Strategy for analyzing PDFs and extracting table structure\n",
        "model_name = \"yolox\" # Best model for table extraction. Other options are detectron2_onnx and chipper depending on file layout\n",
        "# Extracts the elements from the PDF\n",
        "elements = partition_pdf(filename=\"/content/Q1-2023-Amazon-Earnings-Release.pdf\",\n",
        "strategy=strategy,model_name = model_name,\n",
        "infer_table_structure=True\n",
        ")\n"
      ]
    },
    {
      "cell_type": "code",
      "execution_count": 7,
      "metadata": {
        "id": "FIGFtzwZtA4n"
      },
      "outputs": [],
      "source": [
        "from unstructured.staging.base import elements_to_json\n",
        "import os\n",
        "elements_to_json(elements, filename=f\"/content/Q1-2023-Amazon-Earnings-Release.json\")"
      ]
    },
    {
      "cell_type": "markdown",
      "metadata": {
        "id": "CQ7SmgnMwIjG"
      },
      "source": [
        "![image.png](data:image/png;base64,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)"
      ]
    },
    {
      "cell_type": "markdown",
      "metadata": {
        "id": "xaZ1gdWe2HRZ"
      },
      "source": [
        "![image.png](data:image/png;base64,iVBORw0KGgoAAAANSUhEUgAAAnYAAAHUCAYAAAC3aGWBAAAAAXNSR0IArs4c6QAAAARnQU1BAACxjwv8YQUAAAAJcEhZcwAADsMAAA7DAcdvqGQAAKucSURBVHhe7Z0HnF1Vubff9Jm0Se+9JyQhIfTeuyCgIBbQix0UvaKXq5+Ker0W9Fqxo4IgPRAgEAIBUkjvvfeeTKZmZtLIt581Zw07O+ecOWdKMjnzf/LbmbPbKu9aa6//ftfaezc4GmBCCCGEEOKUp2HsrxBCCCGEOMWRsBNCCCGEyBAk7IQQQgghMoQ6I+xyc3Pti1/8ovtbFyAdd955p61atSq2JTN58skn3VJTvPfee9agQQMbNWpUxtqOfH3rW9+y0tLS2Jaap77Uv3RJZpeq1GXKkOsOdfZHP/pRbOuJhbyQp7py7UuVVNuBtzHXBpEY6l9NXotPNch7ddtgsrZE2OnWwbpwfagKcYVdvItnbXc07du3tz/96U/u78ngVL241iVoBP/6179s2rRptnDhQhs8eHBsT2ZBvn7+859bdnZ2bEvdoLbbaG1ysjq1+fPnu78lJSX23e9+1/2ubWqiA6sudSENdZ3atFFdaau10e/VdFs+mbY6GdeHmkBDsaLGoPIXFBRYhw4dYluEqNts3LjRunfvXudEuhDi5HPKXh943UmUvXv3Hv3Yxz52dOXKlbEtx2/j7+mnn86rUtxfv/2HP/zh0W9+85tum9+e6NgwhP+FL3zB/QXC4XgWtgeiwW0P88QTT1QcwzJt2jS3nfBJK+dF90E4bMIg7PCx/N66dasLg7yEj/UQnt9+zTXXHJPuaP6jhOPnt98WzqdfD+5WjklbOC7Sc/XVV1fYluMmTpx4XNi+7OLlhb/hfMVLWzzCx/nzw9vCefGEbRY+Lx7hY70do+UULm/swOKPZx+2Yt3bLJkd2OePZ/Hpj57D9oULF7p19hO3tz9LOE1+e7TMCCOatig+Xp8nlrC9wvbxYYTtz7bVq1e7uHz47PdhcL7PYzit3tYQtbc/l/2kLbzP5zsK5/hjEh0Xzos/JrrNx53MLvz1vyFsD35HiVd2HBdtv+HjomWZSvsLE42TMCqzZ2X5gET2gmic//73v+OmwddpIDxfPxKFHT0nSjjdLD5P0XoVzms4LtJIHIQTPZf1eHUB+/uw/fnh8/xx4TzEsz3bozYK48/zdSGcrmhc8cosbJtw+/V1j+2EQVgQTk84X1HiHee3eRv69UmTJh2TTn5zbQvbgzSRd38Miw8HwvngHMKMHpvI9sD+8PGp2ipRmsgb9SFcJ/w+wvG/k6XJE7Yly/jx451tKCPWOZ9wwnnw24D47rjjjop9rIfTHS/OmiKhxy4vL8+GDBnixpZZ8MKsWLHC7cM1+tBDD9kzzzyDMHR/H3300Yq5FoWFhTZjxgw3HMd5yY6NB+Pg27Ztcx4gzrntttvc7yif+MQn3H6WoBDs97//fYVLmbR+6lOfcvsCw7shQuLERezDZpk6dapzt37961+3oNAsqDRuSDgrK8vZICjYivBfffVVFz4uYeLiWPbhov3DH/7g4oVw/qPDkd5F7dMN5JcwuDMYO3ZsRf5/9atfWbt27Vx6/PHkKRxX3759XVzePjNnznTHkd7ly5dX2COal8cff/w413aitEWJZ0OO+/KXv+xsSPikOXqXc8EFF1SEje2wZzz3OtuCRuDC4dhHHnnEHf+LX/zC2cifTxmEz//tb3/r9gUNr2I4gPT16dPHhQWJ7MAUgAkTJrjtLL4souf4ugHUJ8qI9LGPNBEfNr///vsrtlO23/nOdyrqPHeBpI192IR440G83/ve99xx4bSyxKt/YfsTZo8ePVw4rJMmyoiyIh2k4aKLLnLpTdQ+sTfHsJ3jFi1aVGHvRO0rSrI26sEGlHdwoXPHsZ6sriSyS5hU6jJtk7pC3BxDnBC9fiUry1TbnycaJ/aBZNcrYDsLxGuTiewVrYukq3nz5nHTkIhkZZGI6DUi6PBieyxhO2aJ1+6TEa4L2I18cS1nnX5j7ty57rh063KvXr2S2ohyHDZsmEsrbN682Vq3bm1nnHGGu274/LGMHDnyuLYRbat+CpKve74+0TdRhqn0oYmOIy/8xs5bt26tuGZdfvnlcfu9sD2o74nacLiM2TdmzBh3ncRm4bacyPbR8uaceMSzVWXXFd8XUJ70BeF9kKw+eKJt9ZxzzjmuL6Dcw3kgTML2nHbaaW479vXtlnXS5a/FtUFCYde2bduKxPqEDR061O3jN4XvhR9/Fy9eXFEZyZzv1Cs7Nh5cTLlA3nLLLa5Arrrqqrhz79h37bXXVoSL0T2klW1AeDQ6WL9+vau0pI+FtL799ttuXxRscOaZZ7rfhJGTk+N+k6enn37abSPuCy+80FVwX0jh/Echfi5EnMfCbzpZeOCBB1xhUxF//OMfV4RBhfDHf/KTn3TbPFxAwnHRWIG0AWmFcF5o6HRIfp8nWdrCpGPDMNjHT0QlfdSLeJAubOpFMRcHLphFRUV2++23u23UBy6s/sKNAPZ5Bs7hGNKHjXw+ktmBC1U4757wOWF82KSVc4mPukp4XMxJM1APGaLmIgA+bdCvXz/3Nx7E6/MUTitLvPpXVlbmjvX4siHvtOVbb73VtQPSsXv3bpcnworXPvft2+fCpL6xHTHw8MMPV9gqUfuKkqyNJiNZXUlklzCp1uV4RK9fycoy1fZXGcmuV6nkI5G9oumnTd18883ud6qk2m7DhK8RYQgrUTsmrdF2z5KMcF2Ac88919UJoG2RDuKsibochbL21z3ST4dPfrmRpJywGXFj76gdEuHrHgt1C0hnvDYa7UOTHYdN77vvPuvZs6eLI5ldw/aARG04Wsaf+9znKq5rnmS2j5Z3OiS7roT7AvZRR3xZQ2X1IRnRviCaB/aFb+jC1/fwuaSP60gyHVQdqjzHjsInU174he86oqRzLGAk7pbpLFHm8Z6wpHC4c/Z3FnRcGO5EwR0oheLzFM9DlQh/N+OX6N3gzp07KypZqnc1NUVlaasO0Tt16kVdAfHMnbqvp9g8Fbij5XjgIlFbk62jxKt/3pMYhgsJIm727Nl2ySWXuM7ntddec/XKX/zitU8ujsCdpd/OUllHG6Y6bbQm6kpt1uUTSSr5qM22VZfbbTpUpy7HA9FAJ05fhcfHd9qES/h4w8477zwnQHxHX1XitdF4fWgqxyHIUqWm+tmatH1dTFNdo0rCjg4BhUyl8YwbN84ZPEo6x3oQdHS0VMgXX3zR3YVRWePB3RGwPxVvAAraD3Ow4CHzd9mpQp7wKPonZgiHPKWCj983dDpYLgzABZS7KdzkuMu9jcJ3IOk0ykSQbu76w3dlkCxtYapjQ38HQ3nhFYoHeaXReTFPXSDNrVq1smeffdZtI41cVMN3T+kStQN1ibs38sQdXWWQfoQcx9PZkmbOa9mypbtT9vWDCw/eXu9JqArhtKZT/zj2jTfecLYkfuz12GOPuY6a9sX+eO0TOMaXM1AXfJmkQ7pt1JNKXYmWoSfVulwZ2KemyzId0slHPHtF08/5ierKli1bKjwIUQ98KmURhuN9GITpvYzc/CZqx6Q12u5ZwJ+Pp5S6nw7e+1UTdTkM7efGG2+0n/70py5P3mvDtZuwWZ80aZITHditqiRqoz4vnmTHkR6GKyljrlHerqkSrw37uunT8de//rWinnqS2Z70hr1b6fZtqVxXsEW0vdZkfYjWWTy3eKDjie4TSZWEHYn+zW9+49yXeClYuHjE81ilc6yHRn7vvfe6Y+loKYSomuZ8FDtuUI7Dw5KKaqcDJjzCZfFuaRohBUJB4UKPDmuF4VjEl4+bcIqLi2N7k0P8xEc8nHvHHXe4vCAQaHAMl7GfNHLHR4X06eL4ZcuWxUJKDyo+nR9hYFvKJFr5EqUtSiIbVgbDL74efPWrX41tPR7sy1CGTy+24TdD1diIbaSRoQV/MU2VRHbwQ1Xkh7vsDRs2uPVkeK8W5/jwKDNsQ7i+DkeH1lMlUVoT1T/20dFwjvcSsI2y8UM81CdulHxHzf5E7RN7g8/fgw8+6OyeKoSRahsN1w06nWR1pSbrcmV4+1S3LMNQNuSR8LiJTUaq+Uhkr2j6Od/Xj3Aawtc/toVJtd2G4Trm2+oVV1zhPCKeRO04UbsPx88csqp4DKtSl1MpJ/oqxH74xvbss8+uyANx0Caj1ynKJdpWE5GsjYZJdBximHLHzsy75RpFfSBv4XKP1+8la8PhfoB9jDSRhmhbTmR74sYG/GZ7or4taituFJJdVxiO9mEi3uK11+pe2zzROouTw4d9MmkQNLgPWpzISLho0Ki5KEYvMPUJ2UEIIUSmU+U5dkIIIYQQom4hj50QQgghRIYgj50QQgghRIYgYSeEEEIIkSFI2AkhhBBCZAgSdkngUW3/9vAoPP5e2asKhBBCCCFOJLUu7HjFxJ133lmll/8lojbCTBfe4cMihBBCCFFXkMdOCCGEECJDiCvs8IgxBMlfwDOGh4x1/5v9vGmZhSFLfxzfdQ1v/8Mf/uA+WB5+wzZvFP/Wt77ljmXhsx+s+yHP6BAox/sw2c7bteOF6dPBeRzHOvtIL+H789kfDpPfnnAeeLN1IqJDseHwNEQrhBBCiJNBlTx2fLLDf4CX76Tx2Q6+H8g38vjUEdv5fhuf/vjyl79sH/vYx9xnVxBwfB4ECgsLbcaMGe4bbX379nXb4oFI4vMz/oPnY8aMcXHHCzMRfIKIj59zPh9LHzt2rNvOOgt4EXj//fdX5IG8pUI4jSx8VsSLTCGEEEKIE0WVhB3f6sNbBnxfrXXr1u5bbHw3Di8XQgexddVVV7lj4uG/XVkZfBgYIeeP/dznPlfxjc5U4Tty4Y/FEybfd/MeNn7zkWnE6MiRIyu+G5oq4TSykLfoR7SFEEIIIWqbGp1j993vfrfCA4ZgCg9x1jWeeOKJCo8dix6EEEIIIcSpTkJhV1BQ4DxYMHfuXDecmQyGYhFyzF9DJDGMyfBkWVlZ7IjkbNmyxQ1jQtjb1a9fPzfU6+fb/fWvf3VxxQOvG2zevNlmzpzpfsfDh8nQKzCvjiFhvI+kg/PBhwccc80117i/UcJpZGEo9vLLL3e/mdOnOXdCCCGEOBHEFXYMo954441uuBXP26JFi9xwZjL88Gjz5s3dOffee699/etfd8OzPiz/oEOUwYMH27Bhw5yw4twwiETC8OHu3LnTBg4ceFyYt99+uz388MPumIceesgNFyeCMC+44IKK+O644w43hEq+77vvvop8v/LKK7EzkhNOIwtDsYQvhBBCCHEiaXDUj50KIYQQQohTmhqdYyeEEEIIIU4eEnZCCCGEEBmChJ0QQgghRIYgYSeEEEIIkSFI2AkhhBBCZAgSdkIIIYQQGYKEnRBCCCFEhiBhJ4QQQgiRIUjYCSGEEEJkCBJ2QgghhBAZgoSdEEIIIUSGIGEnhBBCCJEhSNgJIYQQQmQIEnZCCCGEEBmChJ0QQgghRIYgYSeEEEIIkSE0OBoQ+11Bnz59Yr+EEEIIIcSpwMaNG+WxE0IIIYTIFCTshBBCCCEyhIRDsYPOvMg+9b3fW2lxoU34+y/tlq/+wP1+9Nv32K6Nq2NHnnxOVDofvO0yG9y9k/3fuMl2w5lDK34v2bQzdsTJpXOblvbQnVdbwf4y+9Gzb9n+soOxPUJkDiN6d7H/vPkSy2rS2BZt3G4/feGd2B5RW3DtO71PNys7dLhGrnmXjRhgn7/6HHt93kp7/N15sa0nlhZZTe27t19pOS2y7KGnJtqu/OLYnvqB2tGpRTr9O0OxjR4KiK1X8Otf/9oaN82yERddayVF+bZs+lt2+iXXW2HuLpv0xO9jR5WLqlu/9j82/80XY1tqnsriSCWdNUG/zu2ta7tWNn7uChvdr7u1zG7qfvfr3M5+dvcNdu0Zg23u2i3O4HddOia4GF5uHzl/pA3s1sGmrdgYC6X6fOGac21rbv5xBcs68Q/t0clmr9lihw4fie1JHS52P/r4NXbPlWe7tF85amBFnk4W2JJOZdHGHbEtJw4ufpTtxy4c5ezhl33FpbZx977YUZXz0eCcRg0b2O6Cut15pJJO6si3P3q57SsqOSn5Ic5xs5YFbWqD9enUzuat2xrbkxpcIH/xmRvtk5ec4cryrIE9bcaqTRXtJV7bRdjce/0Fx5V9eDtt5cyBPdKySzQtxNe1bes6V1ewwQszlljTRo1sb9H+hGlLta1iv9Xb91ibFtm2fMuu2NbKqcl2RHm/tWiN9WifYyu37a70Ghe+Nvo6EL4+pHOtpNwp83Trbk1S3XZ0ouFm4GMXnV6jfWkq1GS5p0KiOk74qfbvX/va1yofis3fvcMK9u5yXjB+11VORDpRy8WBgbfnFlb85u71wcfHu/WPXTTaHcdd6NceHWfvLl13St0JUXkefPw1++wjz7m0vzp7hV0zanBs78kBW56su3rK9jO/fcbu/OWTzh6UKb/fWbI2dkT9gzryg6ferDOe6nTBM/OlP46taJ/LN++yswf2iu01W7BhW3BMkdvv2y5///f5SW778i3l+UbEcB2gPrD84bXp1rVNK7cvFejc/zsQkJznwyC8688cGjvi1ONkttXaxl8bZ67ebNeMHuTKz18fqEf10et3IuGaezL60lO13JM+Ffu1P79iaxdMtzkTXrB7/vdRWzzlNXv1Tz9x+z79o7/Yaedf6X57Dh86aOP/8lObNvafbv3CWz9tN3z+QWvcpKlbL9tfZP/64X22eu5Ut0743QecZnm7trmh0+vuecCF6Y87/+ZPVRoHJEun5+6777abbrrJNmzYYA888EBsa+pwx3DOoJ6ucnFR79a+dUVFo7A/fM5wKz1wyLbkFrhK6Lf9+Y2Z7hjgvOvGDHG/o8MaHI+rNatJk4rhXu5+80tKXeXplNOywnUeJjycQRifueIsywvuLC4d3t9tq4qbnbz2DO5kX5i5xN1ZPjF5vqvgpP+ykQNs4559NqRbJxc2nRF52rQnr8JFHHbzg8+DbwB+f9mhQ/bw2Hft89eca707tj0mDD9cA4mGbMLHAA0Nj8lz0xe7dT+E5PnLxFlVFmV4Sl+atfSYRuzzsXDDdhvSo6O1aZ59TLn6MmV7mGiZhOsFRPf7fGAH6pfPs88P+3t3amsrt+6xcweVi5RoGFFbhfenmk6fjmRDcmGbR8u9uukME699pQM2x5YItXA4hIvgevSt2dahdUu767IxLq9w6/kj7BcvTq5oC76tVwXuzPEUxbNhmOra0w850r4AcZoXhPOn12dUhJPsuhQmUZpTaavhOMjHs9MWW4dWzSvaak3Uz8raUTQc0prdrMlx7ToZXAdWb99rI/t0td+8Ut6Pha8N0Tii9oymEZLZPBHx7MW12Nu+JtpRZfaEaP3cGdSvsdOXVJoXf+2kL+nTsV1gg0OuTtDewNsj3JfEi9+n0beNYT27uHxHberbQefg5itdW0Nl5Q5he0Xj9/UiUf8OldVxwkilf2cotlqvO2GY9JLbP2d//dZdsS0f0LnPILvzv39pr/315xVCDqF37oc+Yf/6wb0V898QZfDrL3zIicVu/YceMz8uWRzpUF1hlwzfOCjkr990sf3q5Slue7jBUOhRMeg7kHAl85XDXyAZ6oX1u8qHf+IJDI+vPJt251XEc/+HLrK3F69JqyKHz4lezMP5oFEDv/05pPMrN1xg/5g0pyKNNM5wp+jxFwUvUIb36mJ7CouPyRvnDuneqaID8HDh4g7KC0HfcPHAhC9uvuNl/wO3XJLSRSceiexO+u69/nx75LXpLlzWLx85sKLxQ7JOPN7x2BjCHSTHcYGjYybPgL1mBXeSEC4LiJZ71Lbx4khVbCQ6jjSEOxfSzBDGT154uyLemkgn+DZXFWFHXQjX0WjH7Nvl6L7dXV0nT4i4ePXNC6ao6KqMVNplTdiTNgC+HbB++4UjK9Iabs+Q6LoEldUP0hevrUbj8HX5ncVrK/JW3fpJmMnaUbx8YTuEcTrl5usKHeys1VucXcP1J2p/4vV9go+jOnUXqHvhG+54177qtqPK7AnR8mY9fC2sDI739RlB5uslv3EshNOazGaka1ivzq5t4n0P12+Pt1F1hF2ycicNNdG/J6vjhJlK/16rrzsZeMb51rn3QPvczx6zhyetd8vN937P2nft6fZ5EHQMnbK/Taeu9r8fv6hWHs547LHH7LbbbqtxUReGAn5jwerjhi8pEAr9d+Pfi20pP5ZCp2GEKT14yA37+EpNgftCTwUKPRxPXlGJ8zykCo0NfEWhktHAPaSPuYWwbkduxW8PFZUHS359z8321Dc+4ZZvf+QKd1fmK7GHOw+GvHyns3TzzmMaYyJopHhPuVh6ochfXObhiwEXB5+Gv937UZeG2mDSorUV9mJuRHbTxi6NqYB4wNvi08lCw+dCFQ3jtcDW5JG8snhRB9gSoeKJlnuDBkHnf9cNx8RRk1BvSg8ePsb+2GTc7OXuQu052ekELv4IJl/XuBP3bZbpFdxt9+rQ1rVZLuJtWzV3dSl/f+lx9S08FMuFnLZeE9SUPfFI0tF5e+IRIa3kPZ3rUlWhDuMVC8dBPh5/54N8QXXLvbJ2hM2wnW+nQJq4XlYFbM41KNxGsSeee653Pg1cBxH/4TKrLtQ9Roe4phEHf6mb4bpS2/YE+qUxA3pU7Cffz0xbfIyNK+O9FRtdndsbiNC3g+toKtf/KOSbfhc7cPP1wD9ePS4c314ZQk0nfVESlXtd699r9XUnW1cvsW9e0e+Y5b+vHXLMMCqePbx00L5rL+ehO5VBpNAR1GRDPpFEGzSNlYtVOh0WQ5O+w/NLdRtUuuCZoLGF00C66iJ4LMPpZPECriag7D4R3OEzF9SHT5x1jROVTi7MdFK+jjN04zssbE4nOaBbByeaZq/Z7IQ6bRoxmAjqNp0UUyZSId0brqpCB8OcQm9PbIuN02nPtU1NlXttt6Mw2BXRf9u5I2JbyqHjZY5yNB3+5rWmQBiEw6dueo/aibKnF0t+H/m+eHjfCufAiYQ2DXjkog6EmiRRudc1qi3sWuS0deIMbvzif9u3/z3VrSPemjTLctsSgYi777fP2fZ1K5zoe+Ofv3KvLmHINkyiONKBodgXXnjBfvGLX8S21B5PT13g7hyymjZx61QGvFvRCocnDI9YOhCm7zxowL++56Yaa0h0bNxdRy9MzH2IeiETQQdHR+iHgGoDLihcyHCLh+HC5oem8LDQAD2kZ1TfbrG1E0t2UGa+E8fGP73r+gr7vLFwVcWk3NqC+rIjr8jVQyAuvDhRkqWzMij3suBuNJwPwuCC6x84qIxU01kdCBPBFq7fLNGHKPp1buu8Ir6ucbPDcCwQBraJ5rV/1/YpP7HJ/NVoJ0gY37/zKretJuwJDNUkuj7U5HUpEdgPO4ZtSz6o856aqJ+VtSNsFvW0kCaGYquKv4nvG7Mf6aeupNLpt22ZXZEW8kBewmlLBuVJuSaiJtpRKtclrrepXh9qC18PgHaMmP3y9ecfly5/3D++eke1+8t45V5T7ag61+Aw1f6kmH8AAvxDEH4oFfF1z/8+am07d3fr4B9+2L15nRNxWS1aHffwBEx+7q8VD0AkiyNVamuOHZXET+4MT5iMN+YenRwZnmhM4YUnu0K8SbXh48L7w+H7hxC4wHgXPHdfye4aE+UDoeQnxzJno2Os0hEe4omHKTg2/G4/XMvh+UcQtU10aCA8R4kKHT0fovaIhhOeSBoNA5uUHjrkhmPDYSQjbJMw3pbh/cSNmz5aBnRs0XCiZREvHn9+yyAf0XoD4brjy8jbB69rtNzDtuK4mas2uQm44XCSpTORLZLlE8Jh1EQ6w/UxTNSm8Qi3HV/fGHoN1xPiAV+vqSc+XwwfEke8tgyppCFMvHAqs3m69ozayx/r639l16XKyh0qa6vx2jMPOp07uHfFPLvq1k+Il9Zw/YxeY9nHNaFLm1aVzrOL5sGnizjjzXuM1tFoWsPHhNOYCvHyGZ1EXxPtqDJ7Rq+/EM1nIsJhk3am9LBOffAPiJFW+tBE6cSb7ssk+vAEhOuOL79059ilWu411b9Hbe7tmU7/Xu2HJ4QQQgghRN1A34oVQgghhMggJOyEEEIIITIECTshhBBCiAxBwk4IIYQQIkOQsBNCCCGEyBAk7IQQQgghMgQJOyGEEEKIDEHCTgghhBAiQ5CwE0IIIYTIECTshBBCCCEyBAk7IYQQQogMQd+KFack0Y9Ihz+ALWqH6EfnU/2QdiL8h7HDH8s+0fiPfOe0yKr0Q/BRwh9Br0od9PmvKXvyofDPXHGW/W78e8d9UD78EfFwfOT/KzdcYP+YNCetvEcJf+Q8+lH7VD+AXhne3pXZOllaklFT6Qxfm9L9wD9U9kF5CH+cvippDJ9fneunvyZAvLyG90NV7FFZHBA+pirXE19mZYcOJb0OJGpHqeDPzWrSJO55UVtBVezFt2LjCrvThgyqKHTILylN+6JXk1AJH7jlEhs7fUlalbemCDfUMH+ZOMveWbI2tlY5Hz1/pK3ctvuk5CEdUknnyS4TD43lw+cMtz+/MTO2JTWiF89oA4rXaYcbXrjsw9tpKzvzi9KySzQtxLduR26drSuV1Q9sB6lcXGlbQ7p3suemL45tqZzaaEdfuOZce2nW0pSvcYiAcwb1rOgQ08kz0H4+eckZ9sTk+dYy+F2VOhyFNGzJLTjumoSN773+fHvktelxbUZeerbPqbK4Jt5hvTpXtJ+oLeKFX1V7I0CT2SqalnSoiXRGr4vRepIKXA8SCXRP2MYc//WbLrZfvTwlLXsCdaWq7SleOUfzev+HLrK3F6+pclutLA4vUJdv3uWOqUq/FLYfdStReVfWjpIRThfXu3j2jtqKdFXluoCwizsUS2V68PHX7LOPPGfvLl1nr85eYdeMGhzbe+IhPT946s0qV47qQryf+e0zducvn3T2+Nqj49zvdERdpnGyy6S60HC/9MexriwpUy4MZw/sFdtrtmDDtuCYIrffX0T4+7/PT3Lbl28pzzcXnu25ha4+sPwhaPRd27Ry+1KBxvvft13uzvNhEN71Zw6NHXHqwQXWX4gzlQ6tmtv4uStia2ZvLFxl2c2axNZOPNQjBI2vlx46lBuCuvT94MY8UVvlHM4ljKpAWdNfeBEStQXXyXB9IJ62LbOtOIFoiQdhVCaO6HjbBuUSTks61EQ6+3VuZ/nFZRW2Jkxu0khbTUGZdmvf2tkZuJY9GdwgXDysn1s/UUTb+ew1my2vuNSlr6aoLA6vVfwxrE9ZusE6tE69LmM/wkgmilNpR8lIpb/8zStTj9k/rGcXKz1wKLaWHkmHYv0dzAszl1TcXZJAOrPLRg6wjXv22ZBunZyHgc4ID0fY80FlDnu6op4/vx/358Nj37XPB3dHeAnDYXhvSDK3J+kMu9DpqPcVlVR4AaIuznQ9bWHi3cF5e8xctckuHd7fbQvngQtE1LUOURc44XgvEUT3+3zgaubO3OfZ54f9vTu1tZVb99i5g8pFSqIwPGFbpJrOVMokHE+03FNJZ7RMo/s9pLk63g5sji3p3MLhEC6C69G3ZruLxF2XjXF5hVvPH2G/eHFyRVuI5yVJlVTvlqtrTy5MYS884jQvCOdPr8+oCCdc/5KVbaI0h8ss0XBIOA7y8ey0xU4k+baarNxrqh1FwyGtCJF0PDNcu8KeRtabN2tqs1Zvduup4PNalaG0KIQVzzMUTWciqEOzVm+pcj0Og/0hXvkDaa2qhzBZe69pT25V0om9Lx850HXSnnSvEdH6Ga0ftOXo8Hm8eJMRvh4kuramS7w0hK9bUJVh0jCV5ZN8VWckKZGHNtV2lAqp1tOqejsTDsV6YRcOOJoYKit3DVQICg/47c9Zv2tf3MoX7hQ9vvC9yBjeq4vtKSw+xrjJOpNrRg+qEFG+wnrXrD/GN6raKnjsER2OiDbmZAUar8LGu0ByHGKYjpm4AHv5DiVcFhCtHKnYItWKl+g40oDQ9+kmzfdcebb95IW3K+xWWTqjdSCeLSDZhb4yyH+4jobLlnC9sBvdt7ur6+SJMo1X36o6bSGVxlsT9qTcwZc967dfOLIireH2DOH8R9NWWf0gffEugtE4fF1+Z/EHnpJUyr067ShevrAdwjidcgPOSyS2K8PnPTq9oypzaiBR+6CcR/bpakN6dKwQCvFubBOdnw7eHpUJhVTqfCKStXfCLTt4qOLmOt0yiVKVdEavqdgf8V4dZwJ5jg61Rus0QnDT7rykdg8TrrthqprOeGmMB/FW9QYiWRzeBtTx6tg6Uf+eajtKhVT6V/JT2XB8IhIOxQIXHvCRkxAumJ7SoAH5oQhczeFhCcAlPTi4uP/6npvtqW98wi3f/sgV1qdjO7cvDK5Vhry8kZZu3plSY6QRcZdKQfvM8zfsmgXuunwa/nbvR10aahrsgTvcpwMBQLypgnjA2+LTyYLXAbFIPsO8FtjaDzewhL0E2BKh4skrKjnGLV3btqDelB48fIz9qUPjZi93rmVPZels0CAQKXfdcIwtahqGXhFMvq6t3r63YsoBwy/cKffq0NaJES5GDPNgv/z9pcfVt/BQLMKBhlkT1JQ98Ugi5Lw98UCSVvJOWskjFxEP2xE/CLSagDqMVywcB/l4/J1jhUR1y72ydoTNsF34okqa6BTTgQs9dSdc7ukMhRG/n96BFwMQIuFrWTpQfvGgvmKPGSs2ubiYXsM1M179TBRGqiAqiAO70IHHg3izmzZ2N/41CWXbtW0rO3dwbzddwpfJxy4aHTsiPaqaTsoOUYdop+7RzhhBqg60xXlrt1qnnA/KjFE06jRx0MfirecakCq+rOh3qXdAPayKUOEa9YNAVNH/VdZvoxPw0KdLZXGwjak11G9uvGmfNUk67agm4DpFO6rKtQASCrvoBRJRhlpNJyMLN2x3RggvXMzCF9XahgLmghVOA+mqi3AHEE4nixdwNcGpYgvq2CcuOSPI+/iKdGKbmoaGSafv6zh31l4AYHME3IBuHdwFk7kdXOgRdzS4RFC331ux8ZiLcDKiAqy28Bc+b09si41r68JUFWqq3Gu7HQF378zD9OwuKLZ2VeiwyDOClzSmKw7DJKqTpHHl9t1OCAA24EY8Xv1MVq/TgZsQ2ky8ukW8xF+TZQGExygN3l/fvyDK8OBFb4xToTrpDIt2/m7dWz7Vozp0izgJSFf4hhLPYlWu5dQ36h1hUA/TvR7Qp3z5+vNTnnvGtS67aXpzUdOJA7twczQouG7XJOm0o5oA8Ru+vqRLXGHn765Rpb7isDAfxns0KoMCoCOsaeUcBuNyMcJlGQY3tb9jRGnjbfGQnlF9u8XWTixUaN+JY+Of3nV9hX2YCMudRm12tKnaIlk6K4Ny52IazgdhIKJSvbjRWHbkFVXcmREW3qaahDDpfML1myX6EEW/zm3dBFZf17jZwRsLhIFtonnt37W96+hTgQvFxcP7VnjIgTC+f+dVbltN2BMYVgrHEQY7c5GKetLx0OOprwmwH3YM25Z8UOc9qZZ7ddoRNsN2nOchTQzFpgPzacOQdub1niyok/E8btQfJvOHyxYBGq2fnOvrdTpE7Q/87hvEF++hAzzANVWnolD25MOXLU8bA3UvXWoqndhiRJ8uFXU6Fei7/FArEAbeyETeQ+o6N0Qbd9esF7QySCNt7YF/vOryh90ZyvT2J93UDb9OOm8+e1hagqWyOLim/fqem45p7+iBqj50kIhU21FNQN4Iuzpe7ePm2OVvXmMLnv+bm/sRnrQZHpNnDkzH2IWVu2MEAw8PcCxPjjAEy28SFp5/BOEwKbToUEt4XgSFlso8lGg44TkeGCmcBs4tPXTIDUGGJ6QmI1E6yDuu63D83sMQbxJ5NBx/videPD6vXKTiTRwPh+/LyNsYr2s4XXidUrFFsnSmUibxjgmHUVk6ozblOP9gis9vuD6Gido0HlxwfPn4+kYnFLaNHx7z9Rrb+HwxfEgcXEzilUkqaQgTL5zKbJ6uPaP2CrdDiJeGZHXX48sdom0dwvFE2yIwTMXwmZ9nV1m5QzQtUXvHS2u4fobLH3w76NKmVcpzsqL2qs58Lp/n6oRBelKZfwRhW0Kyc1MhWq6J8sFx4Yfw0iFaZhCtwxA+Lt7+VKhOOqO2Dte7dAi313j2DO+vaj4hnN5ovUhGvLYM0fxGyy2da2OqcUTbe7oPg0TLzBOvnSRrR8lIlJd4aSU/1XlQo9KHJ4QQQpwaIBDxuqXacXrofLk5T7WTEkLUXZI+PCGEEOLUgaHI6DBzZXAs5/h3ogkhTn3ksRNCCCGEyADksRNCCCGEyCAk7IQQQgghMgQJOyGEEEKIDEHCTgghhBAiQ5CwE0IIIYTIECTshBBCCCEyBAk7IYQQQogMQcJOCCGEECJDkLATQgghhMgQJOyEEEIIITKEpJ8U46PS140ZYos2brefvvCO2xbFHwN/mTjruA9Qj+jdxf7z5kssq0njpOEkgg9Uf/7qc6zs0GH7v3GTbcmmnbE95XRu09IeuvNqK9hfZn95Y6Z989ZL3e8fPfuW7S87GDtKCCGEECKzSfpJMQRVt/at7WuPjrO84tLY1mPxx9z5yyfts4885z4mjdDy8PsTl5xhDz4+3h2zPbfQnZMqfKB6ULcOLmzCOH/I8d+wLQ7EG0Iuf3+p7T9QLuTcb4k6IYQQQtQzEgo7PG/JvGtedP1u/HtuHSE1fu4Ku3hYP7cO/H5y8nzblV/s1l+YucSdw7k1DaLRizx+CyGEEELUN6o8x65lTJxFPWPd2ufEfpm1a9XcdheUizpP25bZFedWBmGv3r7X/nbvR+2nd91g01dujO35AI7BQ7cltyC2xY75LYQQQghRX6jWwxOItGTet6ymTaxTzgdDs+nC/Ly7LhvjfjNH79sfucKe+sYnApF3/THx4lnEw4jIe/Dx146b5yeEEEIIUR+o00/F8qDEZ377jJuf9/q8lW5bfkmp/erlKcd5CoUQQggh6jtVFnbMZ4s+VNGhdUvLKyqJrTHv7dghUT8Ey7npwEMY2c2aOIH3h9emHzOPTwghhBBClFNlYYfHbOGG7davc7vYFnMPRryxcFVszWzK8vXWq0Pb2JrZsJ5dbNbqLSfF2/bggw/aCy+8YHfffXdsixBCCCFEZpHwPXb+/XFhou+S8++Qa9M8260zXPr4u/Pcb8+Dt11mp/fp5n5v2pNX5ffL+fflMRT70FMTK560TYWePXvad77zHff7xz/+sW3ZssX9FkIIIYTIFHiPXdIXFGcKN9xwg33sYx+zp59+2saPHx/bKoQQQgiROSR9QXEmMWLECNu1a5dEnRBCCCEymnrhsRNCCCGEyHTqjcdOCCGEEKI+IGEnhBBCCJEhSNgJIYQQQmQIEnZCCCGEEBmChJ0QQgghRIYgYSeEEEIIkSFI2AkhhBBCZAgSdkIIIYQQGYKEnRBCCCFEhiBhJ4QQQgiRIUjYCSGEEEJkCBJ2QgghhBAZgoSdEEIIIUSGIGEnhBBCCJEhSNgJIYQQQmQIEnZCCCGEEBmChJ0QQgghRIYgYSeEEEIIkSFI2AkhhBBCZAgSdkIIIYQQGYKEnRBCCCFEhiBhJ4QQQgiRIUjYCSGEEEJkCA2OBsR+V9CnT5/YL+H52p9fsc69B9r4v/zUzrzmtorf08b+M3ZE3eBEpPOuS8fYdWOG2F8mzrKe7XMqfr+zZG3siKrTIqupfff2Ky2nRZY99NRE25VfHNtzLCN6d7H/vPkSy2rS2BZt3G4/feGd2J7U8WGs2rbbxs9dUfG7KmEJIYQQJ5uNGzfKY5cq+bt32OGDB2z35nVuPfwbBp15kX3u54/H1k4elaWzJtiSW2Blhw7b3sJy0RX+fdmIAfbUNz4Rd2FfZewvO2gPPv6aLVy/PbYlPks27bTP/PYZ+9qj4yyvuDS2NT12FxQHaT9k23MLY1vsmN9CCCHEqYaEXRqUFhdawd5dTjz533WRE5FOBBHCqFzklf/2vD5vpd35yyedF4+F32yrq5AHL/L4LYQQQpyqSNilyN5tG6ykKN92bVzt1sO/P/2jv9jnfvaYDRpzoT08ab1bfjJhpV1466fd/s59Btm3/z3VbedYYB/HsNz1gz+6vwyjst+H8aOXFzlPoMefk2g/JEun5+6777YXXnjBfvGLX8S2pAfeuZ35RVZcdtCtF+wvq/idCgy3/vSu6ys8ef/46h1uWDRKx9Yt7Y9fujUtj18Yhoz9uSwP3nZZbE85pJl8eG/jgYMfeB6FEEKIUxHNsashEFiX3P45++u37optOZYbv/jfNvLi6+3Rb99zjCBs06mr/foLH3Lnf+p7v7fcHZvdOiDkzv3QJ+xfP7jXrd/537+01/76c1s9d6pbD++PirdkIOxuuukm27Bhgz3wwAOxrTWPF2LRuXcIu+G9utis1Zvdeuc2Le3rN11sv3p5SsWcOkTY4O6d7P/GTXbDrpzzwC2X2NjpS9y6h3M/fM5w+/MbM2NbykEoXj5yoP3mlXJbAUIPHn93nvsrhBBCZBKaY3cCmTPhBff3rGtvc38Rcr2GjrK5b5RvB0TdUz/5RmzN3AMP29YstYFnnO8WHoTAM+g9djff+z1r37Wn25cOjz32mN122221KuqSwTy6y0b0r/Ck/fqem93DEmFKDx6uEHXAOYg6xFoqjO7b3c4d1OsYjx0PeQzr1dmJRCGEECITkbA7QeBRWzzlNee1Y2j2/Js/ZYW5u455WnV/Qd5xnrdm2S2cVw+2rl5i37yi3zHLf187pM49mVsZeM54SIG5dyyffeQ527Q7L7a3nLKDx87bqwp+fl944cEMRKIQQgiRiUjY1SAtcto60QYMvTKvzq+D99pd/vEvHeetg15DTnfneTi3aVa2Ow/x1qRZ1jH7q0p159hVl7atmtuCDdtia2a3nTvCendqG1srp23LbDc8671r/L31/BH29uI1br0y3li4yq4ZPcgN1QohhBD1Bc2xq0F4+KH7gNPc77xd246ZT+dBmF3y0c/ZtrXLKubSAUOzV931Vcvp0MXadu4e22o2+bm/2qt/+on7jdC7538fPWb/4UMH035PXW3PsfPvuQvDU7F+bhti66E7r7Y2zbPd+srtuy27SRM3HPvzse/YF645z/1+e9Fau/W8Ee4YCL8rjzl4p/fp5n6HCR8TftedZ9OePPvRs2/JayeEECLjYI6dhN0JBmF3wYfvPk6MVfbwhRBCCCFEMvTwxElgwOjzbdemNafcvDghhBBC1H3ksTsB+FeZZLVoFdty7BArry254fMPWuMm5fPJlk1/y/753c+730IIIYQQqaChWCGEEEKIDEFDsUIIIYQQGYSEnRBCCCFEhiBhJ4QQQgiRIUjYCSGEEEJkCBJ2QgghhBAZgoSdEEIIIUSGIGEnhBBCCJEhSNgJIYQQQmQIEnZCCCGEEBmChJ0QQgghRIYgYSeEEEIIkSFI2AkhhBBCZAgSdkIIIYQQGYKEnRBCCCFEhiBhJ4QQQgiRIUjYCSGEEEJkCBJ2QgghhBAZgoSdEEIIIUSGIGEnhBBCCJEhSNgJIYQQQmQIDY4GxH4LIYQQQohTGHnshBBCCCEyBAk7IYQQQogMQcJOCCGEECJDkLATQgghhMgQJOyEEEIIITIECTshhBBCiAxBwk4IIYQQIkOQsBNCCCGEyBAk7IQQQgghMgQJOyGEEEKIDEHCTgghhBAiQ5CwE0IIIYTIECTshBBCCCEyBAk7IYQQQogMQcJOCCGEECJDkLATQgghhMgQJOyEEEIIITIECTshhBBCiAxBwk4IIYQQIkOQsBNCCCGEyBAk7IQQQgghMgQJOyGEEEKIDEHCTgghhBAiQ5CwE0IIIYTIECTshBBCCCEyBAk7IYQQQogMQcJOCCGEECJDkLATQgghhMgQJOyEEEIIITIECTshhBBCiAxBwk4IIYQQIkNocDQg9jslyg6bHU7rDCGEEEIIkQ4NG5g1bxxbSYO0hd3W4qNWfEjKTgghhBCitmjS0Kx/TvoDqxqKFUIIIYTIECTshBBCCCEyBAk7IYQQQogModpz7A4dPGiL5822JfPnWMvWbax3v/7WvVdv69azd+yIkwvZe//9961hw4bWoEGDim27d2yzWdMmW/6+XOsepHXQsOG2c9tWW7F0kTVu3NiGjz7LunTrbu9OfM269ehl51x0iTVp2sydH6Ygb5/NmvquHTp0yC6/9kbLbtHCbccuyxbOt5VBeKPOOjewywB7/E+/tX6DhtqVN95ckZYw+4uK7K3x4ywrO9suvPwqa9GqdWzPBxwO4mncpElsTQghhBCZyEmZY4dgWr5ogRN2t3z8brvp9o/bpvXrLD8vL3ZEYpLpyTS1ZkIIZ8fWTbZw9gwrKsiPbQ3UbCCq2rTrYEcOH7Gpk96w7OYtAzHax/oPHmrvvvGqLZg1w/oNHGwHDxywVYEw27Zlox0OjvWE09e0WZatWrbYpr/zph04UBbbGhRI06YunhnvvmXr16y04qJCW71yqQvryJEPwgrTvGVLW7tyub39+stWWloS21oOcW7duN4mB0JTCCGEECIe1RJ2R44ctg3rVtuMKW/bskXzAyFUZpdfe4N17NTZ7T9QVma7tm213Tu2W17uXns/EDQInE3r11re3r3u7/bNmwLRVWC7tm+1DWtXBUJssxOL7Nu3d3cgmpa47YgsKCoscJ613Tu3W0F+XiC4DtuuHdsC8fTBuds2b3SikzjHP/+MTXv7Dcvbl+vij4L4asAzxQGNAzHWpEm5V+5o8K9t+w720bs+axddfk0g4Jo5cbhx3Rrbt2e3Sx/xHYgJMGyxZ9dO56Ujv1Fx2iwry/7j3m/YlTfcbA2DOMnHji2bXT4IizTj5QO8cju3b7fVy5cGedgT5OWI7d6+zf76m4dt07q1Vhjke39xke3ZucMt+UE+iQ/brlq6+BgRK4QQQoj6Q6OHAmK/U6Iw0B4H3y//zWhiWUmpTX/3TXtnwitOaHXo3NW69+7rBNO86VNtxuS3LT9vXyC45juhNOXN123iy2OtT/+B9s8//NrWrlphHYNz3n1jvL3478ecF23Cy8/Z62OfdV611198Jgj/Les/eJhlN29hrzz7pO3YtiUQd9tsybzZbpj01eefsrFP/MOJuZefecLmzZhmZ19waSAWt9kLT/7dCbw+/QZal+7drXHj8mHMI4EgXLNimS1bMNc6dOpCbgKhtsWmTppgrVq3sYuvus62bFxvD3//W7YvEFcM1b4aiETy2blbd3viL48EYmyTdevdJwhnqRNYLVu1sn8/+kd33qgzzw2E6R5bMHu6DRgyzHn2fvxfX7U9u3fZ8FFj7O3XXrZZ094N0vG+Pf33PzmROHTE6TY/OH5nIHIZDh739ONWFojjfgOH2LLF8+2pRx+x9h27WKeu3W1dYLeZgaAu2V8SHL/NDfUuX7zAfvHQf1nv/oOsR1AGQgghhDg1aRRorHZZx0/bqoxqeewaNmxkQwIxgidqQCC8XnrqMfvlDx50XrOy0lKb+MpY58Vr2rSp80qtW7ncZk19xwm8/kOGWrsOHa15INb6DBjoBCFzys69+DK79eOfsWWL5lnXHj3tsms+5MReXm5uEMYam/jqWGvdOsfFv3LJIueJa9GylWVlN7cx511kV33oVufhKy4qCMLvYO07dLJuvXrbaaPPsGZZ2e68MIcPHwqEZ24gzLbb3t07KzyDzMlrndMmEGvl89zwsL33zsRAHPa0foMGW07btta6TVvr0LHcO9ksEG4XXnGNXXL1DbZx7WrbX1zotnvad+xkrYLwgLl0ePYaNmpk/QYPcd7B7r36Wk679m5/i5Yt7bxLr3Dz8fD+kcZeffu7OYz9A5E4+LQRQb732twZU12au3bvYQ2C9Pbo1cc+8qnPunmOQgghhKh/VHOO3RErKS6yM869wO7/zo/sS9/8f3bw4EGbPe1dO1BW6jxrHNOzTz+75qbbbOCw4Tb6nPMD0VNsO4N9ZaUlzhPmvWiIoyZNmrqHB/CgRR8SQNzt3r41+NXAecFu/eRnrF0gEqFxo8bWKBBKnJ8OiMlRZ51nl117o1105bWBGOwU23MsCLyzLrjECckd27ba0fePWt+Bg4O0N3L7SauLPxCxlcFcukGBOGsUCGOGY3Ny2lmvmBhrEPwjD9gErx0CMwpx8EAG8wKffewvNicQeIcPHbROXbvZhz56ZyCIe8WOFEIIIUR9oppz7I4YD0ts2bTeecWu/fBH7dyLLnMCLSsrOxBdHd3QY5fuPazfoEHWOqetDRsx2kaffV5wTLbd/unP2XmXXG6NAgGTCoi4xoHoYV7agMFD3QMOjWLCqjKYXxed95YOeARHjj7LRp15jrVp295uv/uzdsY551nDQFCmC7YZNnJ0IGpHWI/efeyTX7jXho86I7a3EoI8MIyM1/Jjn/mCXXvzR92Qcun+Ejf/748P/48bphVCCCFE/aNawg5y9+yyV577t82b8Z6tXbnCecDwfmU1b+6E3vLF8+2/v/wZm/LWRDtwoNTenvCyTX1rgk167WVbMHOGrVy62Hn98vbusa2bNtjeQAhuXLvGefp2bdtmhYX5lpeX6+bJ9ejT12658277629+at/+ymdt0ZxZ1igQVsWFhW4eHHPaNq9fY/n79ga/91qLlq1taCCg9u7aGRw72w0Le0r377ftWzfZzm2bbfOGtUEYBe7BhB3bNlnu3l22Y/sWN2ewKAibhdeavPbiM/be2xPtnQmv2vxZ021dkF/SXlRUYHsDO+TyUEUgrnYEYe7ZtcvNLSwI0l+Yn+/2kUcebOAhC4Z133j5eZv85us2a+pkW796lRu+LsjPdQ+N8LAEHs/NG9a5oVvmAQ4fdabNmznNFgb5Xr54oXsaGe/f6WPOcX/3BnFOe+dN27V9eyyXQgghhKhPVPs9dv7VHcxNe//IYfeAA3PHgKAZmj1y+JDzePFAxZSJr9sff/lja5WT44ZjmzbNsu//4hEbeebZ7pxUKCkudnPKsgPxeKIgL2+Me8H+/KufuLmB2zdvtM7deti3//dXblg1HXj6lYdInnnsL84+2zaut649e9v//fVJ69Cla+yoxJAWHhTBc8ffZs2aOXs4ewflwBO82FoIIYQQpyZVfY9dtYVdOuCxeu7xR+3y629yw7N4yRbPm2tDho+wXv0GxI6qm+D1+9dffm8fveseNxSbu3e3rV2xzE47/Qzr0qNn7KjUIKy3J4y3ocNHWt+Bg9xrSia89IIb3sXzJoQQQoj6zSkh7PAu8QJe5oTltGnrvEq9+w9wX6mI95BAXYK08xQu89fatmOuX2PrO2CQderWPW3vGE+58t69jWtWu7mGTZo0sUHDTkvJWyeEEEKIzOeUEHZCCCGEEKJyTpiwKwq9oFgIIYQQQtQ8vKC4zfGfqK+UtIWdEEIIIYSom9TtiW1CCCGEECJlJOyEEEIIITKEOjkUe/jwYbfwtClPjPLELE+lHjp0qGIbf0k679Fj4TfH+X1sIwy28WmudJ9crQlIE++pC6e5LoO9SC/f9sVmycC+5Cf8NDPlw3bOT/UpZ44vKyuzrKws90k24sduhJGOveKlRwghhKhvNHooIPa7ToCAW7x4sT377LO2bNky69q1q7Vs2dK2bt1qr7zyiu3evdt69uzphMf+/ftt6dKlNm/ePHv11VctNzfXevTo4UTB+vXr7eWXX7YDBw5Yx44dnbCqCogV0oRgSFeYFRUV2VNPPWWbNm2yfv36VTkNtQ12JG3Y+09/+pO1adPGunXrFtt7PCUlJc6+2KZFixbONgirmTNn2osvvmi9evWynJyc2NHJoVx//OMfW/fu3V05vffee678KWNevJwKpGPdunUuH82bN3cCUQghhKiP1Dn3BiJh1KhR1r9/f9u4cWOFFwbhQWd/0UUXOe8OlJaWOoF3wQUXuM4cYec7dY7p27evjRkzxnX2VQGxsnr1aica+J0urVu3rhCadZV9+/bZ5MmTnZ0Rc23btnUes0TgUUMAIpg7d+5cYW/+IujIc7Lzo3AO4XAOYVC+H/rQh5yYTxXqBsIQkUhZIcSFEEKI+kid89gBIoPOftWqVbZjxw4n6PB69e7d29q3b+/2I7R27drlhB37O3ToYG+99ZbzNnXq1MmWLFligwcPtnbt2sVCLaewsNB5lhA0CBQ8TxyDEMQbiDhYvny5Ey54gsaOHeu2I9DwThE3IqSgoMAJzy1btrhjOZ/w2L5y5Up3LIJy7dq1Lq0IVYQL5xAH2zkGocQ6+dy8efNxnrK8vDyXd9KwYsUKy8/Pd0KXNJL2RYsWuXgQN+QZcUt4bNu+fbstWLDAWrVq5bbjDcvOznbnI4AQxlOnTnXbsS0ClPAIi/RxDl608LDstm3bXDrwQHrbkg6285dlxIgRzttGfkg7XlXyhe0oM7YTPzYjndOmTbOBAwc6UblmzRpnQ9JJHn06pk+f7o6nfLG3D5s8EzbHY6MNGzY4kYf3jrxRN7z4FEIIITKdOjshiaG8K6+80nXs48ePd2IDwYYoAUQXIgfhgWAYMGCA8/Y888wz9s477zgB0KVLF3dsGM5nPwIGgYYwII69e/c6YUY8CIsXXnjBbfNz5BAH/AXiRoAgUhBtiEXE1Ouvv+72I24WLlzofofB+4cAIhyGG9999103jLxnzx4nnhCJYZh7hjeNeEg34SNemAs3e/ZstyBySOPEiROdmCFshBTitbi42MWBiOV8fnM+4ZJHPFv8xg5+Ththkz/CRPAhqjwcT/rZhlgE1hFm2A0bERY2QZQRB+FOmjTJCTPywXbiwdZz5849zhOK7dhH/NiL4XeOx0bEgxj1Apew3377bZsxY4bLH14+8sexpJWhcNIjhBBC1BfqrLCjox40aJANHTrUebkQcHhsPMzzQoD4uVwIoyuuuMIJDsTakCFDXBhR6PwRIXj4zjnnHOftISyEGl4gRBr7hg0b5oYV8RDiAcKbhMAAxMLOnTttwoQJTgjh7cLDeMstt7g0ec8R+8IgQBBFHIMHj/mDxMf8QM65+OKLY0eWg+jCs0Wa8WjhlWIhXXi6SPu1117rtr355psuz3gpSS/nkQ9+I77wriG8SBfiCOHLPtLNPoat2e89oAxvY2+EoxdHpJt8I5i8FwyxhYgiXtKIvRCYiDOEMeecffbZLr3EjSBDhDPcypB7uIyIm+OwM2XEb9IwfPhwFwZCFXshDsNhYw/gHDyc2Jj8XXfddXV6GFwIIYSoaeqssAM6ZYQbnT+ddhi8MgiXsDBgaBNhgRco2cR7hAMigr+cz1/ECF4ixCSC45prrkn4AADpwjvI8ve//91eeuklJ3YQOQiKPn36uLCi3iI8VghPBBjnMv/vqquucnE98cQT7sEFhJQHQYewxUPF8C7rp512mttHukkH+SQu4mcbC0IPscXvc8891w3HIvQuvPBC583Du+gFbhTOQbT5sKIgVgnbg4jCloAdWRBcCDAEI2IP8Um6vTDDLghKxHq8OMKQRo7xYRM/YSC0fdgM/XooexbO8SJRCCGEqC/UaWEHvkOPgvcHj1eUqnbkeL8YzmRYFjGB+GEIExAiCIqw5wpBg1frK1/5ihOFnIugYPiX8zkWARQWdwi6xx57zAkcvGZ4Ihl6REj+7Gc/cx5DPHcexAniiHiY0/af//mfTtBE4Rji5HziQ5iRDjxZnIfHDo8ewg5hidDjnDBeECUDAYcg88OwwPA4Q6qISyB+hCUC1XvzsBfzJRHe5Jf04LnDsxr1alYGYo24GCbmXBa8gx6EPXkjHXhihRBCiPpEnRZ2dMwMuSGE/JwwwGNDB49Q8NCRI8Q4jvMQDmFR5SEsxADHcCxDizxkwPDjxz/+cfvsZz9rd911lxOOPDCBkJkzZ44TfD480oFAYa4enjK8YmeddZZNmTLFed0QhYg2vGTER1ik+eqrr3bDkDfddJP98pe/dGEhxhBApIGhZASmBwHDXMAHHnjApevuu++2559/vkIYkl/ygYD7xje+4TyH8+fPd/sRg9gIEcaQJJ4t1hnuRUjyGxgSJn28poS8IMIIk7DD89UAweiHpYkDbrzxRud5+/73v+8eNGFIm/BuuOEGJ+Zuu+02J1rxhOJZQ3Def//99otf/MKJMOIiLOyLQEYwM9fQ5w2xSTmRDhaO+fCHP+yOv/322+0nP/mJsyllg40JE7GJ7R988EG3TQghhKgvnJLfivWeJT/Pqybxc8rC8/kSgQhC9DAkiqeQdbxspIvt8YYZCZs48H75IUzOQ2zi6QqD6GQIduTIkS4OzkO4nX766U68RCEMxCBpD8eNvVgnjV6kxUtbKjDvjzQgDJn7Rh7IE9v90K7PF3GxnXx5TyrbSGM4/1UhGja/8QAyNE262EY8qb4LTwghhMgETklhV1/A+8UwJyKKBQ8iMLesOqKouuANZb4gnrrwQyUnC0Qe6cGLiUdRYk4IIUR9RcKuDoOnjXe1+dd/8KTuyRZ1HoZEEVQMh1fV+1dTYCeGXBM9ECKEEELUFyTshBBCCCEyhDr98IQQQgghhEidtD122/YftdJDcvIJIYQQQtQWjRqa9W2dvv8tbWG3tfioFUvYCSGEEELUGk0CTdc/J31hp6FYIYQQQogMQcJOCCGEECJDqBfC7v0jR2zvrp22fPHC4O+O2FazgwcO2LbNG23D2tVWUlxc8WWJVDly5LBtWr/WFs6eaaUl+2Nbk1NSXGSF+XmxtRomSH9e7l5bOGem7S8qim0UQgghRH2hfnjsGpR/7H/VssX2/BP/cCKufLvZvr17A7G3y72TLdXX7B45fDg4b48dOnjI9uzcYXNnTA2EVGqfrpo/c7rNmvquE5s1jn9RsKZACiGEqCEOHzpkS+bPtQWzZtjalcuDvq/82+BhjvKi+O1bbcHsmbZ104Zj+jgcIMWFBbG1zIGvRq1cutjyc/fGtpSDfZYtnG8FeeXfm48H+xbMnuF0CZrCs3vH9uPCS5d6IewQde06drKu3Xo4o4175gln+KZNm1mbtm2tXYcOlsXnvFL8gsLOoPLOmPy2HT36vrVo2coaN26SkpYq2V9si+fPcR61/CQFXh3atGtvI88825q3bBnbIoQQQlQNRrJmTZvsRqg6d+0WCJK8QIwscc6QMMWFhTZ72hQn6NYsX+ZGjyB3z27bunGDNW1W+Wc6TyV4Mf6eQE+8+eqLlpu7J7a1XATv3rndxo99OmE/j/5489WXLLt5C1u3apVt3rDObS8qKLBtmzdZw2p+LrXRQwGx3ylRGAj1g8eW5ylD7u5ddnogema8+5YzbN+Bg21/cZGroDlt2lqDQAByR4ICX8RwZnGxtWzVyiZPfN3mzXzPXn/pOdsSVND1q1c5r1v7QCxSuNu3bLL8ffvsn4/8yg6UldmAIcPifmZr9fKl1qlLVyvIz3Nfj+jRu6+Le9P6NfbUo390nrYXnvi7C5tG8MozTwaKfrr16tvfCTUU/pz3prg0rlu9wnJy2tjkN1+3RXNn2fgXnrY9u3bawQNlNnf6NOvavUeQhoZumHjDmtU24aVng/j6uEbHfu4mWDp06iwRKIQQIi70GW+8/IJ179XH+g4a7PpRRBv9UvirQ3mBuKGfpI/dvmWzZWU3d/3qormzbfjoMc4JkknQx2c3b+48mX36D3B6wG0PbIKzh3558GkjnbMlSun+Ypsw7gW76IqrA+2w14nlnn36Bv36SmvboUPQL3dx4TcKZES7rFTHEj+gfj08ERiqU5du9onP32dT3nrdFs6Zdcy8OlzMK5cusouvutbOOPeCoMBm287t25wI2xfcdXzys1+2K677kA0ZcboryBGjz7TsFi0CMVfqfn/tOz+0+bPec2IxCkISVX7aqDE26LQRQdhz3Hw7GkaHjp1t545t1iIQkZ+57z+tY+eurmHcec+XgsbRwjauX+vOf2v8ODt9zFl2zkWXuCHgTTGVT0O75yvfsIsuv9py2rZz8eMiJn/NsrPs7AsvDvLd3QlUhClu8TFB/spKS5wYjN55CSGEENAo6P/OPP8i+8PD/xMIt+nOAzciEGqNIl4lRsBatGjpnBt82hGnyOplS6x3v/6uX8o0EF5NmjZ1Ii4M2xsH+U/2ecsmTZpaq9Y5zjFUVlpq7Tt1th3btgQ2bOq8otX9TGf9EnYxevbuazd+5OP2xrjnbF0g5rywmR/cbbQMjE2Fbde+g1PaWzasd8bvEIitNu3buwLAE4ZIpADR0i1atg5EWUvLCtR7o0aN485x27JpvRuKXbVkoRUXFNi+4I5ncyCyHEE4nMf5NI6uPXq6RsHdAIVPLIi19YGaxwXOcPJZF1xiA4ee5tLQqWv3oOG0d8PNHjx3mzesDdL+vsvPh+/8lN1+92cDUTrSrrvlo05krl6xxPYGjZS5EUIIIUQ8Rp5xln34Y3fb337zcydaWubkxPZ8QE67dnbGeRfY5vXrrFuPXuX9Y6OGzgOVt7fcK4WDQpg1y86262+73ZYvWug8md2CPr+osNBpDIRe/r5c5zCqKvVM2JUrLsavcRePCCrrpNdfsb27d7ntTQJRxUMQXuhQgZs2axb8iu8KPer+VQ5j7ts3b7aLr7zGBg4bEYiyi91wLZMmDwSFmAo0ktLSEifeRo45253fPLg7SgTiE2/kvr277fDhw86dTmXZFDQ65gfS8Hr16e9EXyp5EEIIUf+gH1m6cL61bp1j9z34fZs++S1bNGfWcSM9OCeGjhhlV9xwkxuyRch17d7Tli6Y5x4SWLF4oZsGlO7bJzKVvgMG26XXXm/nXnyZFRbkB/15C/dQ5rwZ79mqpUvszVfHVXk0rd4IO8QNwgZPGcZqlpVtZ51/kfXpP9BK95e/qoR5ADwYsX7NKjfpsVWr1ta7/4Dg3ENO8B08UH63gdhj/h2vSuEJ2wMHSt2dCK882V9U4P76you3b82KZc7j1qZdB2vZurW1bd/BDb+uXr7EjamXlZS4YVHSQTjEXeq2lbrz8PSR3oFDTnMPfkx67WU3lMucO17ZUhzEeTh2J4RQLMrPc2lmDgSN6u1AvNKgGFZm2JZ07965IzivsGJenhBCCBGFvnP2tHesR58+dtrI0XbZNTe6fhKHRTwOHTroRpUYbWJhilOX7j2cl49RJMIT5ZQ7X/YEGqLMunTrYTu3bbWmWc2sQ5cuTh8wpaoq1JuHJ3iip2R/iZsTx0MHjGEzH6Bzt+7uAQIqIIKL4dD3Dx+x7OzmzoXMHcf7R993Q7QYHlHHODjncw6VtWWrYF9QcdnWoGEjN6eAp13wsuH9y9272x1DPBUesgbldzgM7SL2GHPv0aevS9PBQKQxeTKnTRsnQpmUybns5x14hQV5Qbp7VLi7Wwf5IX7G+g8ePODmRHQL0s1kVyoGcyKyAmE4fNQY9/Qv4pGHM9p16GRt2rYL8tXdxS+EEEJEKczPt/2Fha4v4slN5sx16d79uLlgrr8L+puiokLXJ9HP4Dyg3zty6LDrSwcMHuoeMMgEigoLbOqkN6xr0BejJbAHYo1++p0Jr1rv/gPdnDn66XjgwGEUrXuv3m5ItiCwM304AoEpW6PPOts6NE//Cdl6/61Yn/2w4bmjYJ3KWNfgFSvvH3nfDScnqixhyB+iFhHpj0cs8juV84UQQtRvGDnatWO7tWvX3jkeeNAv3lOu9J08aMhDBcxRp4/Jz8u1Xdu3BaLvqHXo3Nk5LTIFRudWLVtqXQOR27HLBw89MMq2fNEC69W3n9ueqK/FVgcOHHAimGOwM97O0tJS59jp06dPlb4VW++FnRBCCCGSg1TAI4e3LZFQqXAkNGx0jFeOUSK8dc0y7F121YXhbJw0Yc8n06iOHD5SPjrYqIGEnRBCCCFEJtAk0HRVEXbpnyGEEEIIIeokaXvsdpYctdLD8tgJIYQQQtQWjRs2sJ4t058Ln7awE0IIIYQQdRMNxQohhBBCZAgSdkIIIYQQGYKEnRBCCCFEhlBv5tjt2bPHZs6cabm5uTZ69GgbPnz4SX8BMWl54YUX7JxzzrERI0Yc9xbvdCGP48ePt969e9tll10W2yqEEEKI+kK98dh16NDBCae5c+fawIEDk4q6TZs2OZFUG/Bm7jVr1tj+/futbdu29vGPf9yGDh1abVEHOTk51qlTJ8vLy4ttEUIIIdKnsLDQlixZ4v4CPqDNmzfbiy++aAsWLHC/V6xY4b6cII6F/v25555zNjoZ1Bthx5uyWaiciCgEVnFxsSuAgoICKyoqcp/a2rdvn/3tb39z2/iAP8dRcdnPZz44n79UdhYfhl/wwnE8x/HpFY7lXH6zbdWqVa7Ay8rKXPikyYs6vutaUlLiFvZzPNuIh3UEG2GxnbSyjWNJgz4TJoQQoiagH1y8eLG1b9/eWrdu7fqqyZMn2+uvv27XXXedG/Xq1auXO5aRsKp+rD4Toa/fvn27TZgw4aSJ3kYPBcR+Zzx4yliuvvpq27Ztm/3zn/90dxxU2ClTpjjPGXcozz//vHXr1s15wCig1atXuwpNRecYfv/jH/9wYW3cuNF5AVlQ53/4wx+sSZMm1r17dxfm8uXLbdKkSU4gEiZDpTNmzLCePXs6QfbSSy9ZmzZtrFWrVi4dhLl06VJbuXKlde7c2TZs2GD/93//5zyM//73v2369Ok2cuRI2717t73zzjsu/pdfftmGDBli2dnZtn79ehcX6RRCCCHSgf5j0aJFzlFBv0LfM2/ePBs7dqx9+tOftqysLGvcuPzb44i+N998040UMQIlAlEV2Ktly5auH2eKFeL4RFNvPHZhqJCIKYyPwLrvvvvcb7xho0aNcnciZ599tvOCIZSotFdeeaUbnkWMdenSxVVuhlHvuOMO69ixo/O63XLLLfa1r33NiTM8aQitQYMGuTgQajQGwu/fv7+dddZZ1qNHD3eM9+TNnj3b3Q1dccUVzku3cOFCa9eundvPx4DR4IhN0uE+HBykY9iwYa4Bbt26NZY7IYQQomrQxzEdif6qadOmzhvH8CsiBU8ezgX6RfrHZs2aub5z1qxZsbNFXaBeCjsPnrXmzZu7v1TiKAg9PGMMp7Zo0cLdrXBXgjDEw4Y45HzW2U8YLCh21rt27epc2Ig8hmgRaInA80ZD4XzOZeEczqdxEQ/ikbQSH9480oKoI50sQgghRHVA2O3cudOJNvocpiUh9Pr27eucCTt27LCJEye6vgfohxjNwtMn6gb1WthVBiKKOxQqMEOriK5Ux8xpGAzP4pHDY8e5CDfwc+T8OuCupcEgAtmOkGNbvIc8aEAMGa9du9Z5/TgOsZdMOAohhBCV4ed6e+hb6AuZSsQIUr9+/ZyzI3wMjgUJu7pDvRF2VMQtW7Y4wbVr1y4n1vCIcTfCX+bc4TXjLgUx9tprr7nhVl4d8tvf/ta+9KUv2Zw5c9x+jseTh+hjoiRheAGIOFu3bp3bRnjjxo1zw6zLli1zf/HycT7z6RhS5ViGURlSHTx4sHv9CYKNeBi2pfHk5+dXLMz5Ix/kB+FIOtnOfD7CZZ4fi7+bEkIIIVLFOxW844HpP3jr/Jsi6JuYfkQ/6cHxwciSqBvUm/fYkU3EDh43Kip3IYgmPGncjeB+psIi5pjfhguaCs7dy969e10lp7IzRIqoIhzmFuBR81429vknYflNmGynwrOdiaYcT/jERbycy28WziONbCcdbOMuiHAIj3O5M2I76ffhEAfrDA8TBnnleP+0rRBCCJEK9Ek88EcfdPnll7t+B2fBk08+addff71zRDB3fMCAAe74v//97+73JZdc4tbrO/S/2Otb3/qWfeYzn7Grrroq7shbbVJvhJ0QQgghKoeH/RAnvDwfRwj4+eI4PLxQwdHAgxUf/vCHneNC1A0k7IQQQghRASNFTB1iuJW3RDCyFcUfw8MTPCjIqJGoG0jYCSGEEOIY8NAxlxyPHV66KLwwH/nAvHFN+6lbSNgJIYQQQmQIaQu7/ANmB9+XFhRCCCGEqC0aNWhg7bNiK2mQtrDbWnzUig9J2AkhhBBC1BZNGpr1z0l/mFsD40IIIYQQGYKEnRBCCCFEhlBvhd3hw4eO+wTX4UOHrKy0xA4ePOBe+nvwwIFgvdQdGxzsth0oC9aD41g/cviwlZbst9L9+4Njy9y6EEIIIcTJotFDAbHfKVF4kIcnYiunKCXFxTZzyjvWsXMXa9qsmdv2/pEjtnrZEnvx348F4u2AtWnbzuZMm2wzJk+yrGbZ1rZ9BysqyLfXxj5nDRs1spatc2zl0sU27a03bNXypbZl48ZA673vwhRCCCFONXBa7N290wry86xxkybWpHETswYNnIMjL3dP0HcWuQUnRpMmTa1BPX/NCc4edEGDBg2tUeRdf9iIfYcOHSy3VRXe89coOKVdVvrn1ctS2bBmlb39+iu2LvjrvXaItf5DhrlPeh06eMByAmHXrWfvQOSVWYNgH4XWolVrJ+j6Dx5ie3btsHWrV9il195gt9/9WesUCLpDBwPVK4QQQpxi0Bfu3L7V5kyfai8/84TNnjbFfaIS8bJk/pygz3zVJk983Sa+8qLNeW+KHThQFjuzfnI0sEtB3j577cXnbPvWzbGt5ewvKrRli+bbulUrbcfWLe6dgCeSeifsuCOhEAYOPc2WLpjrhJsH790Fl15pC2bPsLKSEmvTrr0bet20bk1w3kEn5rr26GHNsrKDyn7EdmzZZMsWznfDscNHj7HugRAUQgghTkX4TvmlV19vY869yHbt2OYEivfOnXPRpXbWhRdb774DXB/YtGn5aFd9BZeQE8PbtjhnkKdkf7FNe/tN27V9m40440wbNGy4s+uJpN4Jux1BITCses7Flzk36Y6I0h52+mh3J7Jpw1o3x65x4yZOCBYVFtrWTZusV59+zqXauUt3GzDkNHvrtXH2t988bJs3rrecQAgKIYQQpxquX+vWw5q3aGkdOnexQUOHu1EqvguLQOkzYJDr97KaN7euPXsdN/RY3+BrG+06dLTWOW1jW8qF3vJFC2zLpg3Wq19/27NzR/mc/BNMvRJ2uJQXz5vj7kAK9u1zBl++eOExhm/dpm2gsEc4r93+QHmPOOMs573buA6hV+ZEITRv0cIuvvJa+8Rn7w3uXrLsdz/5vs2dPtXtE0IIIU416BuXLJhnz/zzL7Zq2eJg/ZCbpuRFHKNTRQUFgcDr6tbFsTAda8WShZYVaILs5i1sfqAjXn3+6RM+TateCbt9e3Zby5atrN+gIdazTz8bMnyU7d6xzfL37Y0dUa7Ch40cbauWLgr2bXdu1OzgDmXWlLfdvDsqOaq8MKjc+/cX2WmjzrC7vvBVu/bDt9u0SW84L58QQghxqkH/Rp933S23W17uXufQYC4Z0O/l7ct1U5ZaBP2oOB6EL3br2bufdenew0aOOcsWzZ1pu3dujx1xYqg3wo5KuWblikDMjbSOwd1G527d3bw4swa2ZsXyYyY39uzT19p16OTm1+GSHjhkuHtKiILy5AcVfG0QHt6+7BYtbMCQoa7CV+XJFyGEEOJkQ/+VlZ1tgwNxx9ArHjz6TnDzyrdusZ59+9X7p2ETwehdq9Y51jT4yxA2I3ytc9qccIdPvSmdzRvW2eK5M6yktMRVVF9Z9+XusRlTJjnvnN/GHINLr7nRzbejog8aPtwuv+4ma92mjdsPR44ctqXz59ik1162JfPnuqeGbrrjk9akadPYEUIIIcSpAVOVcvfsdnPP9xcXOedG567dnBcPSveXOI8d20Q5vOOW15kcjglgHirpN2ioFebnuVfElBQVuXmLJ/o1aPpWbAKo5Ig6FkzEOgrcg3saK/D+O8bPm2Y1C/bX78mkQgghTk1KS0rs6X/82bp27+WESIdOnd3olRd2OD+2bd5ko885z63Xd9AFDLuOe+YJG332+W4EsHHjxu4jB9PfnWS9+w2w3L17rHuPXta9d5/YWelR1W/FStgJIYQQwk1JYnoRI0/MNw/DsCyODi/0RGKQVQy/xrNjOlRV2FU9RiGEEEJkDIxKMU8snhjhyViJutRAACey44lAwk4IIYQQIkOQsBNCCCGEyBDSnmP3fnC0ZtgJIYQQQtQevDytYRXeoJa2sBNCCCGEEHUTDcUKIYQQQmQIEnZCCCGEEBlCvRuKLS0tteXLyz8h1qJFC2vVqpW1adPG/eUR5Zpm//79tnjxYuvcubP17dvXiouLbe7cuTZq1Chr27atO4aXH2/dutWWLVtml112mfuAcHU4ePCgrV692r1LZ9CgQdasWbPYHiGEEEJkMvXKY4d4euGFF5yQQjwh5BB5a9euddtqA95js2TJEluzZo0TWsTJ26mjIhIx9tJLL1lZWVlsy/Hk5uZaYWFhbC05W7ZscfEmC08IIYSojO3bt9sbb7zhlokTJ9qiRYvUtySAz4stXbrU3n33XZs1a5ZbP9HUG2FHJXzuueesefPmNnr0aBs5cqQNGTLE+vXr5zx3tSXssrOzj/EGtmzZ0s4//3zLyclx64D4a9++fdKXGR44cMClPz8/P7YlMU2bNrXWrVtbkyZNnJgUQgghqgLC5L333rOCggI34oXTwDsqxLFgk/nz5zsnTJ8+fWz37t321ltv1Zq+SESjhwJivzOajRs3Om/d7bff7kQUILYQWAyJ4kVj+BKVzd3IihUrrHv37jZv3jx75ZVXbN26dfbLX/7SecxGjBhheXl5To0vWLDAVq1aZV27dnWFOm7cOOcBnDp1qrVr184N86LeEZSISIZlX375ZVfoCK8ZM2a4IVj+4mG78cYbbdeuXTZp0iSbOXOm8zJ269bN/f7Tn/7k0kv6i4qKXNqIb+fOnTZgwADXAN955x2Xfhoi6UHAVndoVwghRP3k0KFDbioR/V7v3r3dNpwh9GfRkaf6DlOvXn/9dWcbHEd8yWPs2LE2ZswYpwFOFPXGY4crmbsNvFlhEHQILJT1hAkT7IYbbrAPfehDtm/fPifO8LChvk8//XT7yU9+YtOmTXOijrsWwrv22mtt6NChLpx///vfbh7dddddZz179nQCLuphQwAiymgsCxcudELxggsusJtvvtmJQIZkEYLMAbz00kttx44d7hjm5PXo0cMuueQS5wVEaA4ePNg+8pGP2Pjx4239+vVO6JFuwuJcL2CFEEKIqsAcbYQdwgQhxzxx+jeJuuNhZJA+2Hvo0A84Xvbu3evWTxT1RtihnPFgIZjisXLlSifUqMQsCDQ8bxQUQ6kUEJ4vRCBDpvx9++237dFHH3W/EWSzZ8+uGALt1auXiw/BGA+OJ3xEHqIQwcl5xH3VVVfZOeec44QaXkSOCYNLnPQiAPHoff7zn7cuXbrYlClTnEeP9BEe4QohhBA1AU6GkpISJ/TE8dD/d+rUyY3C0fdjL/+Q5omk3gg7hBrGRUwhuDwILMQbwg9hhycNEEfcoSSa94ar9ctf/rJT5n/961+dR5A7GFyxHkQaYi0ZzJ0Li03iRyAyLMswaocOHWJ7PsALVMTc2WefbcOGDXNxkVbupnz+wvkUQgghqgp9HdOEGAnS9J744FBhFA1bMQTLKCBCj9G4E0m9EXaIoI9+9KM2Z84c59liKHXz5s1u7h1iDKGGOGLeHEOtzFfjIQtA8CHAOA5vGcOrnIuYY9iW+W0U6EUXXWTTp0+3bdu2OS8bYTLPjjscXLGESViEz1+8egy1cg5z+hjyJT0bNmxwnjjCZxvHIBppTBxHXCw8TMHC61MQpwhBBCHhEQ7pIK0SeEIIIaoD/Rf9Jv2aSAx9/n/8x3/YHXfc4fplpkadyPl1UG8enkAYMfETDxrCinlq/l12eMVwoeJexnXKb7Yz+ZHzGIZlToGfj9e/f3/3F8HGcQg09iPw8JhRiGz3XkLUO2HyEARx4h0kLezHy0bhI9q4E2IbCp9trPNgB/PyeJCDMBCfPHjBfDvEI2KT9JAGwkfEcS7xcpfAcfzWfAghhBBVBecEc7l5EIA+TMSHPh6nCg9K0i+fddZZCUf+aot6+a1YhBZ3H1TOaAWlUNhf2RAqcBwLYXjhhDkJGxGYipjieC/2+E0F4C+LPz9ROMTtzwnHz3bW/SKEEEJUB0Z/cHwgVkR86H9xrGAnPyp3okUd1EthJ4QQQojU8VJBzoLkhB0rJwsJOyGEEEKIDKHePDwhhBBCCJHppO2xO/S+2fvy8QkhhBBC1BoM5jatwnMqaQu7rcVHrfiQlJ0QQgghRG3RpKFZ/5z0B1Y1FCuEEEIIkSFI2AkhhBBCZAgSdkIIIYQQGUKdE3YHDxyw+TOn20tP/cu2bFzvtjENMHf3Lpvy5gSbNXWyHSgtddtrEuJYv3ql/ebH37UdW7fEttY8hw4etMkTX7M3X3nRvZhYCCGEEKKmqHPCrmmzZjbq7HOtqCDf/v3oH624sMC96K99x07WrFmW9e7bz5plZ8eOPhZeDLhkwdzYWnoQR/defezw4SN26NDB2Naap3GTJnbeJVfYxVdeq8+yCCGEEKJGqZNDsXyCo0fvPu6zXq8+/5SVFBejvKxV69bWqHG5GMLDdqCszEr2F9v+4iI7fOiQLZ4722ZOftvKSksr3pINR44cDo4ttbKSkvKwAg4fPuTOLQnOLSst+eCt2u7/8vAReKUl+5249GKPOAm/dP/+4wQg+wrz81x4+ftyXbo4lt/EBYR75PBhlx8+PVZUUODiII1FQTx48TimNEgr5wYr7jwhhBBCiMpo9FBA7HdKFAZa5uD7sZVaZM/OHTbijLNs1dLFTiB169nL8nL3WouWLYOlle3dtdNWLllkK5cusdlT37XGjZvYwjkz3HBquw6drFOXrhXfX924do2tWb7Mtm/bEhwz04acNsJWBOfOnjbZNqxZ7YZ8u3bv6Y6f895kG3b6GdakcWNbtWxpsH+VTZ74uh05dNg6dO5sU9583QoL8m11EB4ewg6dOrv0vh8IsgWzZ9rff/9Ly27ewsa/8Iw7d39RkY0f+7SLZ+iIUVYWCMI3x49zQ8vZzbNt7JP/dPGTp4mvvGi9+vQLNF9Dl6c9QR679Tg535oTQgghxMmjUQOzdlnpf5qszioGstKlew+74PKrbc2KpbZo7mw7ePADDxkCrXHTpnbaqNGBkOtgBw6UWe/+g6xX3/525vkXWpNgHyC+dm3fZnv37LLuvXrb6HPOc2IPb1nfAYNdHPv27rHiogJ3PHDOti2bbfuWTTZ42AgbNHR4cP5uJ9JWB2lBaI0840wnHj0NA1HYuVs35zkcPnqM3fbJz1jTps2sayBI/+O+b1iuO7/Qslo0d+kl/q6BaLv46ussP2+frV253K6/5aPWrmMny8rKsjHnXWgjx5xljQKBKYQQQgiRCnXaFYRYGjRseCBwzrG506fY6uVLKh442LZ5kx0sK3NetjPPv8iGDD897pw1RFjPvv3cMOmEF5+zTWvXOOHWJRBhhM+waflQ66HYGeXCriAQW4XBgmAcMHSYnXvRpda6TVsbPmqMzZ/5nr31+stu6BSRGKZho8bWuHFTa9asmbXKaeMEZtNgYVg5eiz0DcRoTpt2tnzxAstu0cJtaxCkuWXr1s6LJ4QQQgiRKnVW2DkJFAghHqbAy9alRy9bsmCOlZWVPxGLCFq/ZpW1bdchEEE5bs6cF04IMxZgW3Z2c7vkquvsjHPOt+mT33LDuLOnTbH3jxx2Q7AMnfrjATHIQw65e/c48dexc1c7ePBAucgbMsyuvvk2a9iggS1dMNfFW1VI27atm23Y6aNdHAz5kg6249HTU7NCCCGESIc6Kex4oGH18qW2dfNGJ26at2hpl119vQ0aNtIaNSwfmjzz3Att5dKF9q0v3mXjnn7CeeQ6dunihkqnvvmGm/MGRwOhtGrZElsdLO07d7G+/Qdbi1at3QMLk14bZ4vnzbaN69fYulUrLD93r20L4ty+ZbP16NUnEJVN7eff/ab9+sffs7x9uXb40EF79bmn3MMPDON27d7LGjUqTw9irCAvz/L37Q2O3Wv79u61rRvXW2Gwbc/uXbZ753YnFA8eOGjbt25xw7xrViyzDatXuyHdcy661F59/t82a8q7zoP4zuuv2PR33qyWcBRCCCFE/aJOfiuWJDFE2qRJU+c5i220kpJgW2xYE88WAogHK1oGQq1Fq1buPJ56xcvHq1F48hR4Nx7vjzt69P0gvKbWLCvLhc9Tsrw6BaHGOexDVLKNOEpLSt1rV5o0bWKtc9q6od6S/ftd3PwmnPAcOObXlQSCkQc8jr5/1Hn5mjRt5rx7CMms5s2dEOQJXdJK/t5//4iLl/wVMwcviNulY3+xOw9R6/MhhBBCiPpBVb8VWyeFnRBCCCFEfaaqwq5ODsUKIYQQQoj0kbATQgghhMgQJOyEEEIIITKEtOfYFR8yO3QCvjwhhBBCCFFfadjALKf8WwtpkbawE0IIIYQQdRMNxQohhBBCZAgSdkIIIYQQGUK9EHaMNvMt2P379x/3TdgDBw5YWVlZlT7fRbicW1xc7MJKBeLhc2G1BWGTHn2OTAghhKh/1Athh8hZu3at/etf/7JXXnmlQtzxJYsZM2bYW2+9Zbm5uU6opQIiDkGHKHz77bft17/+te3atSu2NznLli2zefPmpRxXOhDmpk2b7JlnnrG9e/fGtgohhBCVQx9Cv7h9+3a34AxhG33enj17bOfOnZafnx+3/2Ibx9MXFhUVHXNMYWGhHTx4MLaWWaAn0A/k0Tt4cK7s2LEjqa5AP2Crffv2HeMYwv7oi+rQ6KGA2O+MhY/6d+zY0Rn6xRdftPbt21vPnj0tKyvLVbZWrVpZjx493GfCUoGCWLBggXXr1s0VzrZt22zEiBEunGQQ11NPPWXLly+3MWPGWLNmzWJ7aoYGDRpYmzZtbOTIkS4trAshhBCpwIjP4sWLncNj69atrj/Jycmx1atXO6cEQgTnQYsWLax169axs8opLS219957zzZs2OAcCx06dHB9HGJvzpw5rt/Nzs6OHZ0ZkDccNeQXBxK2QuCxDV2AOG7cuLG1bds2dkY5HDt16lRn4zVr1jhbtWzZ0gk67Mw5lemJZNQLYedBPXfu3NkmTZrkhF7Xrl2dskZRY3iE3bp161yBUDkRbYi/pUuXuu3z5893dy0rVqywN9980/r27evU9caNG10FnjJlilPvhBtPVK1fv97y8vJs9+7dLh0cR9yEyblAg1q1apX7Vu3s2bPdOaSV8ImLSkBauHOikVAJSOvcuXNdhaJhcg75IQ38pjGSdioPdwaEsXnzZtuyZYtrnDUtMIUQQpx64I2j/zn99NNt0KBBrp+iT/vnP/9pV1xxhQ0fPtz1KfRBAwcOdALEQz/G6NcFF1zgjkH80Q8tWrSowpmSSSBkn3/+eWefiy66yPXnMHnyZCf4rr76ate/T5w40Tl+6NM99OX/+Mc/7JZbbnF6g767d+/ezm6cw+9UHU3xqFcPT+C5owCooGPHjnV3IWFQz9xxNG/e3Im6d9991yluhBCFhaEJAxBIiD7WUdnsY/2ll15yhRYFwUWDufLKK13j4A7Gu1vZ9/LLLzvBR2PgjonGQDoQZDQijkHh++NJJ8PLCDvSRtxQUFDgRB4Va+XKlU4AItzwEiIeEXSIR+4YOI48J3IVCyGEqD8sWbLEjWqx4PRo2rSpE3t46fAoIeToTxAgDLeGwZFAf0h/wl8WnB4IGkRipkH/uXDhQhs6dKjz2CHwEHs4grAVmgCnDH0sfXuYsK34jV0RxmiHPn36OLtXh3r3VCwGvPzyy23YsGH29NNPO+HmQThh6P79+zvxxW/EE+e0a9fOLrnkEjvrrLOsU6dObr1Lly6u0iKq8N4hGKnsCK8oDAMTF+ocUeg9gxQqlYC/hHnuuefakCFDXKGfffbZ7o6JBsYyffp0p+xJD8d4Vzd3Q+Rp9OjRThgSFsIUcUgFQf1/4hOfcGnv3r27XXrppRVpIF3h8X0hhBD1E/q9L3zhC25Icdy4cU6U0KfQF+Lg8CBa6GfC4J3D04cDgz6SESWmLdGfMg2puvPG6hKIOJwr9M/0wfzGWYQI9tO76MPRB9gu6uzBNtdcc43ro+l/+/Xr58SfH51DIFaHeifsAE/Ydddd5yoic94YHgX++spKgSCKfGXkN4Iq7E71UMl9RY9WdqBg8Z7hLWQuH/Pr+ItnzotAzqMi8NfHxboPl4rEXUGvXr2cgEOc4doOHx9OG5UFkUmFIn4aGpUGYYj3jrwjTNnHIoQQon6DswAHwO233+7EHdN8cDzcd9997uHDhx9+2I020YdG58vh4KCPYwjyzDPPdP0V89AJ44033nCOCeaeZQI4TnD64HyhT2ZY2jtr6E/pt4Hf8Rwn9O3nn3++cxYh8Ojf6csJ95133nFCkWHtqlKvhB3DjyyAd4xhUWCuGeAFQ0GjlhFczD/DLUohhMUPBUBhURg+PE88oeQnVuKORkxxBzN48GB3B4RK9+dEF/C/uWui4finevH+McwaPR74jchj4isNCcHKEC2VBYGJyxcvn89HvIonhBCi/kG/QN+BWKEPZJ0H8h555BG75557nOBDlCDuouBkoJ+ij0H4IRSnTZvmnBCcx/Al/depDvn0I3Y4VehPEcCs463DqUK/ipYgv9gzCsdiI/bj2URr0D+jNxhZ440bCL2qUG+EHZ4r5gkwrw5DUlkRV3fddZcbRoULL7zQbRs/fry7y8DLReWmgBBGFBbnMUmSMJizhgcMIUX4VGY8fPz1QouCYYiXgvOF5IUXgpKKzkMdVA6OYcgV0UaFQBASPsKMO4AvfvGL7q7n05/+tIubSkFYuH+ZU+d/Ex7pZWiYv9xt/epXv3KNk4aGoGTSJ3HgvSNOIYQQ9Rf6D+8wwOGAQKGvo+9hH/0fc/DYxsMAiaC/oh9ihIh+jqFFwLlBP5cJIOwQt/Sf9P30+wg9xNmoUaNc/tnOXET6XWwRD4ZtmYdIv4zzBnsh7HAs8buq1PtvxZJ9FozpQfBQmSm8ugaNA1FJ2sJpTgSilEqHCESUklfC4Lc/n99CCCHqL/Qrjz/+uOsvcHacdtppztNGP4FIwZuEc4LhRz/UGAVBwrw8+h3CoG9hyJIhSsLBA8g8vEwAWzCCxkgcvxFn/k0ZOHMYhka0MTwdz2MHOG9w8GAT7MOcd87BjvTVF198cezI9Kj3wk4IIYQQ5Y4A7zjwN/xIBIRLKs4EnAY4RhiO9d45zseDxT4/BShT8LbBuxYWu3473spk+cULyjFhJxIjaIhDvHxVtZWEnRBCCCFEhlBv5tgJIYQQQmQ6EnZCCCGEEBlC2kOxW4uPWslhjd4KIYQQQtQWjRua9Wudvv+tSsKu+JCEnRBCCCFEbdEk0HT9c9IXdhqKFUIIIYTIECTshBBCCCEyhHoj7Er2F9ua5Utt8dzZtntH+Yf4TzalJftt/qzpLj018dYZ8rh43hzbuO6DjzULIYQQov5Qb4QdL1bctH6tvTn+Jbee7LV/+ftybX9RUWytZnn//SOWu3uXHTx4wBo0aGhNmvDSx/hv8U4XxOGWjets3crlsS1CCCFEatDvTZ74mr36/NO2ddOGYxwgeXv32LRJE23Gu5OCfmZ9nXCOnEwOHzpkc6ZNsWcf+5utWLLQvYAZDh44YPNnTren//FnW718aY04bdKl3gi7rOzm1rRZlpUUF1lO2/bWIMEbtA+Uldmbr75kxUUFsS01y96dO23KWxNcpcjKzrbTRp1h7Tt1rpG3cTcL8tcqp03Q4PRwixBCiNRBgCyeP8eaNm1mZaX7beLLY237lk1uHyJuyYJ5Qf9Y6o7DIZFJX5BIF28rxFy79h3srUAzMFrG+o6tm61V69bWtXtPe/yPv7Gd27bEzjpxNHooIPY7JQoPBor0FBXqeOw2rVtj5196pe0IjD3+haedon79xedsxaIF1m/QYFswa6aNffIf1qJVjrVt187y9+2z5cG+CeOet4L8fOves7e7o+HceTPeszUrlrkwVi5dbEuDiv+33/zcOnXuZh0CsbZk/ly3TA2EXJNmTa1N23Y2/sVn7b13Jga/O9j+4mKbOukNa9mqtbVu09ZWLVtic96bassXz7c9O3dY567dbN2qFcEdwV/tYCA4//77XwTxLbehw0daUWGhu1tYsWSRTX/3Les/aIg1btLEtgR3WUcOH7b+g4fEci2EEEIkB09T8xYtgr5jaND3dLd1q1c6Z0HXHj0td/fOoP9cH/SdV1ivfv2dA6Gyz4tlMjhm+AwYmqF7rz5WXFhg2zZvsiGnjQj68nbWrmMn6967j9MH2JO+vyo0CrRzu6z0BXS9LBm8da3xbB153/295yvfsPePHrF9uXttxBljrFsg3s46/0JXcbcH6nvQsNPs+ltvtwkvPmN7gwpOwRUW5NsNt33MPvTRO4PG0NIKAgF4w2132D1f/aYtnMO8ue22Yc1q69mnrw0dOcrWr17lvp03YvSZ1rvfQBtz7gXWLWgwR4M0MCyLqn93wqt25Q032XkXX25bNqwLBN5Ca9O+ve3dtdPadepkD/74/7hVsG1BmtauXB6IuwI764KLnZDbvvXE3xUIIYTIDJplZVmnrt2sSSBYsps3d06M9oFAoR+cN3O6Pf6nX9tnP3KdzZ0+7aQML9YlsFG5rfjOazPr2LlrYK9ebt19NzawWVF+vp1+5jnWo3ff2FknjvoruQMokFat27gh2saNcS3HdsTIz8uzjWvXOI8c8+Lu+tL9gfJubw0bNbI27doHhdkldufSyFq3bevc0xR4o0aNrUOw76oP3ey8aMsXzrPN69ckbQwrlix2fzm/VU6OC3f7ls3lQ7ZBI0OANmrcyJo0a+Ya2hnnnG/nXXK5E48rli6yvH173flCCCFEVaGf2rtnt+vjunbv4YZcr7vlo/bk65Ptv370SzeVaGXQ5+BkEDy0uN+Kiwpt6IhRFcPT69eutj/+8n/txaces43rVrttJ5J6LexS4fDhQ9apS1c7bfSZ1mfAoEBcNY7tSU5B3j6bNeUdJ8yGjBztxOPR4J+H32Ghh1u3uLjQxQcIwqys7LjzGJjvgIt3weyZ1qtvP+vVp39wXMNjwhdCCCHSgT6pMD/PigoKgn6ln7Vo1Tq2hwcQG9mwUaPdVKadW7fYkXr+8AQcOnjQTfFi2BVnjqffwMH24P/8ws48/2I3ZetEezjrjbBDMDF8ur+4yEqKi12BlJWW2IEDZe4vD0sU5uU7bxuiiqHT7Ozm7tzxY5+xCS897+baHToUnFey36n0srISN1nShVFS4sIsKSq2/EDUccezbcsmN8Sal7vX9u7eZbm7dzt3d2lw7JYN611a8vNyrbig0FUExNnSBfPd8Qzv9hs8xIk4HugoKyu1A6Wl7qmlgn15tnvndjdJc/vmTS792zZtsNIgTUVBHsknaRFCCCFShT5k5/at1q5DB/dQH/Pu6IP8E7CNAnHH9o5dulrDevzwBNDH8moxRtn6DhgcrB9w06I86AimXjGH/kRTbx6eYD4dIoyHGrgTaRwUhh8nb9m6tTUOBB2VtX2HjtaiRSv3xGr3Xr3d/uLCIldovQcMtC5duweV/IjltGlrXXv0Kn86KAifuQiMsx8N9jEBtU+/AW68Hd8cSp7ju3Tv4Z6gYXvrNm0sJ6etE5Idu3Z1YfGwBE8dIeratm9vPXr1cecjMHsGdwRNY8OwHNexUxd3F9AsSGfnbj3cwxdMeMXD16ZduyCfXVL2LgohhKjf8F7Vcc88Ya+/+KytX7PSli9eEPRFrdw0oHcmjHfOg7zcXDeHrFff/u5NE/WVgwfK7N03xtu///aIm4e/cPYMO3TokOvfGUnbunG9c7js27vXho443U2tqgpVfXhC34pNAe5WMFOjRum9b86ZNlh4WIPfqTweXv4uHOKqXJSRLh9mKmELIYQQ8eAhvuWLFroX5gMOikHDRljbDh1t1dLF9n7QN+E0aBuIl6oKlUyBEUDeWLFp3Vq3jtjt3X+gcwZt3rDeeToRecyL79ilW5X756p+K1bCTgghhBAJQSYcff999+CgSI63FQ6d6jpcqirs6s0cOyGEEEKkDwJFoi41vK1O5iiahJ0QQgghRIaQ9lDsrpKjVnpYQ7FCCCGEELVF44YNrEfL9D1/aQs7IYQQQghRN9FQrBBCCCFEhiBhJ4QQQgiRIUjYCSGEEEJkCPVyjh1viF65cqUNHjzYfaMVeDHwggUL3NK3b18bOXKkzZs3z/bs2WOjRo2yoUOHWl5enr311ls2cOBAt23dunX25ptvuvDYRniDBg1y4QkhhBBCnGjqpcdu06ZN9rvf/c42b94c22LuqxKIt/fee8+aNWtmHTp0sJycHHdMVlaWe7N0x44dnYhDvG3fvt3mz59vN910k91///22n2/s7dwZC00IIYQ4tcDPs2XLFuew2L17d2xrOeyjP3zhhRec04O+sL5TWlpqL730kq1fvz62pVxf/PnPf7af/exn9vOf/9z+9re/OQfRiaTeCTsq55IlS5xomzlzph0OfbS3RYsWdvXVV9vkyZOdB69Pnz5O5G3cuNEdt2/fPuvevbu1bt3aCgsLnZCjYAmT89gnhBBCnIocOHDAVq9e7UauDh48GNvKJ7QO26RJk2zixIl2ww032JgxY5yzoz6DTXbs2GHvvvuulZSUVGxD5PXu3dsuvvhiO+OMM6yoqMhpixNJvRN2ubm5bvj1tttusw0bNtiuXbtie8q58MILneLmroWKvXfvXjdsi0eOoVeGaXmjdOfOnV0j+P3vf++GZylQClMIIYQ4FWF0ql+/fta+ffvYlnJnyNy5c23ChAl23XXXVXw7vb7TuHFjZ6sePXrEtpR/deK8885zjh7+dunSxY0EZmdnx444MdQrYUdlZPi0bdu21rx5c1cIeO/KP7xfTrdu3WzAgAGuIiPmmEtXXFzshB6i0Bciw7J33XWXm1f3zDPP2COPPOKEohBCCJEp4OAYN26cDR8+3M0zZ7rSmjVrnMATx8KULsRxw4YNnX2WLVvmNMKJ/rxYvRJ2DJ9SMVu1auXWUdO4nQsKCtw6oMLPPPNMmzVrlptjgMuZwqIycx5DswhEhmBZ/+IXv2hf+9rXnCv2xRdfdJ47IYQQIhOg32QUC+9U165d3XwxRqlweIjEoCsYhsVZdKKpV8IOEcddBwqaBVcpE0DXrl17zN0H+xBv+fn51qtXL1ehOSZcQAzREh7K/PTTT3dDu8zB012MEEKITIE+julLiDpGu5iOVFZWVjGvTMQHfdC/f3/nDDrR1BthxzDp+PHjXSVl0icVtWXLlm7e3HPPPeeecvXzBtq1a2eXXHKJE3S4VRFuTILs1KmT2w8oceYcvPrqq7Zw4UK3XH/99fV+QqkQQojMgYcF6Qv9k530nUxFYjqTiA8jdwxXn3baabEtJ5Z68x475tFxl4F6ZrgV8K75uw4mNzLkCpiEByNYR6hxLvMMEHl+rJx1wgO8fhxHRfdhCyGEEKcSCBKmHeEEueOOO9wcc/rBbdu22T//+U/3ROzWrVvdAwGIvRM9d6wugU7AIfTQQw/ZzTffbNdcc02FY4eHMhmu/vjHP35SbFQvX1AshBBCiNTxjpCwE0TEB4GMvfwHEE40EnZCCCGEEBlCvXuPnRBCCCFEpiKPnRBCCFGDMEebd6aGP1spyuHJ2tGjR7sHMDy8T3b58uWxNeFhKBdb8RWsdEhb2OUdMDt4RFpQCCGEiAfvMHv0j7+z9ya/HdsiPH37D7T/+OJ9Nmz4iNgWsyf/+aiNfebJ2JrwtGzRwr5+/1fcgxnpkLaw21p81IoPSdgJIYQQ8WDy/PYtm6wgLy+2RXiymmdbtx69rEXL8g8FwK7tW233zp2xNeFp1qSRnT+st3Xo0CG2JTUk7IQQQggh6hhNGpr1z0n/UQg9PCGEEEIIkSHUO2Hn3sWzv9j2FxdZaUmJHTxwwL2AuLZ4//0jtr+o0A7EXmZMXEUF+XYk8k1Z0lGQXzOfJDt69P0gb/vdcrQGwhNCCCHEqUGjh3htchoUHgxEyCmqFUr377e1K5fb4nlzbNO6tZa7Z7ft3LbVjgTiKyenjTVoWPM6tyi/wF548p9WFoisnn36WX7ePnvtxWetS7fu1rJVa3fM+4HYW7F0kf3tNz+3M8+72JplZbntUQ4eKLP3A9FW2cshy0pLbfLE12318qXWvXcfa9YsfnhCCCHqJzgXcDLwmc1GsS8m4RQoLiywgqCfsgZmTZo0rfhyAseynWOaNG123BcVmNWFM+GDYz44lzAbNAjiOUVfbOwcQsVFdujgwWPyhabYt3ePs2XTZh/YpKS42PJy95R/sSo7u2J7GPrzvNy9wTEHXB9dEWZgw/ePvO++YtUo2NQu6/hzK6PeCDsms06dNMGJnetvvcOGjhxlXXv2tDw+3B8Iq/adOrsKXtM0Cwp12+ZNlt28hfXo09f9HTr8dGvZOqeiIBGUvM171tR37bxLrogr7Kg4c96bEpzfvEIQJoLPmhQGjfBAIPB6BWIykVAUQghR/2DkaPfO7TZ98iRr0aqV5bRp6/qjvbt22uL5cy0vECv5Qd/YomXLQJg0D7bvsEVzZrn+EjGCWGneomUstHLob+bPmm7bt2wOxM5ea9u+gxM7jJAtXTDPrZ+KfRGCFVE7f9YMl/euPXo6rVAUiNW5M6a6vO4LtjcMhGurnBwrzM+z5Yvm257Alnt27LCGjRo6+4bB/vOmTwvKYIdtXLfW2rRtZ80DWzOyt3blCteH83BJVYVdvRmK3bdnt01/d5Kdc9FlThwBdyODhp1mvfr2cwWVu3tXUCALXCVcFhQMnq/NG9Y5QcW2l57+ly2aO7vizmTj2tW2cskiW7l0cVAgpXb40CF3/qpli23+zOlWsC/XxRNm945ttnje7CDsEicoCX/NimVBfAtcAwiqkTtv+eKFtmD2TBfWgUDZr1+zyl586jFX6FScwvx82xDEP3PKOy5+7iiOHDls61evdGlat2qFFQd3GEIIIcQxBH0Yzo783Fw3DQjoQ2ZNm+w8RWdecJHrZ9atWun6qncmjA9EWbadfeHFrv9j1AvvVRicCfRXfQcOCgTgXtsdiEEEDH1Wxy5dA9HTJnbkqQd9NUKuuKjQrWODudOnOqF33qWXW+sgbwvnzrL9RUVOAHPc2RdeYl179bQpb05wWiIMIvi9d9+yIcNHBtqjgbMz9t+2ZZM1adrE2rRvHzuyatQbYbdz+zYrDipe60BRh+GuA+8ZblYqNXci3FUsC4QcgikvEFkUIEKuZaCg33xlrHOz7grC27xhvTsWd+zhQ3jUprrH2/HK8fj2zKnvuvPCHArE3yIqQBDflk0b3JAwDal5cA6ub8Th6hXLnUA7cviQLV0437mxGwcKviwQjxyHCxdBeDjYjyCd8NJzgSjdaZvXr3NDzdyBZQWNkAojhBBChGHotVXQ79H/NYj1Ewi4JfNnW4fOnd3QIC/H3bZlo/M8LZ4/xzp37+76oaZBn7dj2xY3dzxMwwYNgj6nkR0N/jHkSt+0NejjECp9+g+MHXXqgScTbxrizQ8lM3w6b+Y069G7rzVuFPTfLVo4kYe91qxc5jQAx7Zv38lpDxxLYQizPKyjrLjywEuK4Oves7dzOlWHeiPs3Py0QBH74c8wbFu/do3t2LrZegcVkErYoVMXW7F4gXOv4oru1rOXnXX+RbZ/f5ETVKVBAcyZPtkJqV79+rlwpkx63Tp16+bm0vUJ7lp279ju5vGFQZgRHwJu7YplVhKIwi7de1ifAQMtOzuoDEEB40UcPnqMu2NC+BUVFlq79h2ca7ZTcOfDuP3aVcuDirDXNcDho84IxGFTJyQRdMTfLagcTiwKIYQQlYDnji9mMNWH6UGNA2FXVlJqxUH/w0OAOW3a4XtwgoQ+ECdFmNZt29qQEafbhtWrrV2HTkFflOW8eL369Hd9ln+AMBM4fPCQ67tz2rZzwgzBi40K8wsCuxy0FjEbNmrC3MWjVlpWUn5iDKZoXXj51bZiyWI7+v7RoM/ua7mBsGvXoYObvxj18KVLvRF2HTp3cZUxj0mhEXCr4oXzT6pSIHjiUOWIQcbIuftge3BP4v4OGDzUPvSRj9vCuTPtyb/+Ibir2WGFeXnWiGOCgnYPLAR/o5XfQ7glJfvd8CnH+4W07AoE4cZAaPLgA3MccAOHoZEcOnDQjfUPGzXaLrn6BteoigIh2DB2R1F+FyaPnRBCiMqh73HCrWF5H8I6D0HwwB7QtzmC7fRfCJYwTYM+78zzLrQLr7jaRowe4+aede7SzTZvWm/TJk20BbNn2LKF82NHn9rglcQO3oPnbBUINP6yC70Q2xGz1bGwf/TZ59k5F11iF115jRODwLQr5tovmDXdZrwzyW2rCvVG2OHFOufiy23qmxOsNDa/jfF/BNmenTusc9eubk5Afu4ep7xR4L37DXSTP139deVYXtERgDzx0rJ1a/vc/d9yLtqSkpJAaPVyY+WEy9KhU2fnaSsv9PLCdeUeVAA8gXjocHMXFRS4MJnzwNg88+sYEsZTyAmERRiB9LNDgTjNChpQPkPEM6a5YeBNG9YGojLX3SWtXr4kuMsqzx/hxatUQgghRBiGD+nLCgvL+yNGjJgX17lLVzcShFMEkUf/Sf+YFWdEyA3VBn1m7t7dbi47c8UWzJzunBAM/S5dOM+NVp3q4Lhp16Gjm6pF37y/uHx+fNfu3d1UKObaoRWwFQ6lnJxjH54ARucQw4cOHnBTuHr06mMb16wJxGJD69S1m82c9o7zoFaFeiPsUNa3feIz1qZde/vbbx62eTPec0+l7Nm509oGlY8h2Cuuv9kmjBvr5qoxMfSs8y90FRxPGvPbmBDKOk8T7cvNdU/JMNdgxBlnWe++/ezO//i8E1ZL5s52jeK0UWc4cYYa5zhc0UVF+cFSYAUF+XbWBRcHhdvIXnjiH/bWay87tb5h9SprHQjGyW++Fqj2GUEjy3cPaVABBg0b7iZi4pU775LLbfa0d+2793/B1q8Kzmnb3q760IeDRnPQ/vWX37sHNDatW+3G9xGqQgghhIcbf/ochhURJ1nZWUGfd4lt27TRvVOVbThE2gYCZsx5F9mW9WudYMFx0H/QUGsReSrWEZzjHu4L+jecGo0bI/SyAslT7qBgPvmpCK8fof9mtIz+lFeeXHDZ1e4hRebLFxcUOMdO5249bOjwUe5BC5wuWzdutCHDT3dPBMcDnbE1sDcaJLtFC2sUCOMGDRnqPhybZ1e1Ubd6+Ukx7hiYT0DhsITB0Hi7mCCKoEuG88wFBcBdine94iGjAjQL7lr8sGgyOJ70oN7x6hEWRULY3s2bKB2cx/nh9+r48IjbTWZNIQ1CCCHqD/Q1OBvee/tNGzpytA0dcbrrgxBlDJfysACirN+gwc6Th6Cb/u5b1qtvfydkho4Y5YRIFPpD3g2LkOveq4/rlzZvWGu7ee1Hg4bWIqe1DR72wcf/TxV4C8XMKW+7/hmnCjY5FGiI9955KxBz3W3//mI3PQvHEQ+h8FaMjl262PbNm+2Mc863Vm3iPxHMPPmdO7ba4NN4OrahG0HcFpzzfmBHxtrOu+CCKn1STN+KFUIIIYQD54D3roWdCkiF6At6o+AUKYs5NhCKHt4DR5g8bJDo3FMRb5OwcwfKt+M8Ov5FzmEQzAxdhx1MvPaMhyfcewAbNZCwE0IIIYTIBJoEmk7CTgghhDjJ8O7RZ/75V5s7Y0psi/D07NPfPnrXZ23g0NNiW8xeevoJe2Pcs7E14WnZooV97cuftyuuuCK2JTUk7IQQQogahPem8nUGXtArjoXPZ40Yc5a179g5tsXcmyBWL1scWxOe7GZN7cZLz7H+/fvHtqRG2sLOHSxdJ4QQQsTl4KFDtnbtGtu9+9gX1AuzVi1b2YABAywn9BWoDRs32KZNm2JrwsM8x0EDB1rnzh+I4FRIW9gJIYQQIjG5ubn2//7f/7Nx48bFtgjP8OHD7Yc//KGde+65sS1mP/nJT+x3v/tdbE14ePUZtrr99ttjW1JDwk4IIYQQIkNI/3ELIYQQQghRJ5GwE0IIIYTIECTshBBCCCEyBAk7IYQQQogMQcJOCCGEECJDkLATQgghhMgQJOyEEEIIITIECTshhBBCiAxBwk4IIYQQIkOQsBNCCCGEyBAk7IQQQgghMgQJOyGEEEKIDEHCTgghhBAiQ5CwE0IIIYTIECTshBBCCCEyBAk7IYQQQogMQcJOCCGEECJDkLATQgghhMgQJOyEEEIIITIECTshhBBCiAxBwk4IIYQQIkOQsBNCCCGEyBAk7IQQQgghMgQJO1Ft5jz3hP2/ge1sws+/H9tSvyDf5H/9rGmxLR+wa+0qe/iSEfbM1z9rB0tLYltFOmBX7FvbNiRs4khUljVNbeXLt0f+Rtmfl2t/vO0Kt/A7XXxdP1E2qi+cqDpel4jmubp180Ryoq8V6RJX2HkD+wbsFzKybdki11HVBePHS2cicREuCL8ka0TxOutkHXiq+I6+tuznbUIcxHWyqU5+/bnhMmPxHZbvwMJLNJ5wR+SXqG3i1aNEx54oEqUpWZ311KbQjle/qlPGlUF4bwT56D5ytN34vZ+5bdF2HF6q0zabZjd3cRAXcdZ0XtIhXt32S22Uaypg22l//Z1d+Lmv2P+s2Wf9zrkwtufE4tv0yWqbIjmpXH+i7Zq2Vx3iXYNq8zpYl64V8UjqsSPR/z17jWvELHf86m/W/bTT7ZuTl9iXXphkLdq2jx158ugbXFy+t3irS9/N//tbd+GhQOOR07V7RX7+44mXbcmrY+3t35V3FqJ26DxgcLXry4gbb3VlzMLvcd/+6jEdOOVOmVK28JOzBx7XwVPevh6THtLlIV2kz9ch8J1X9NgTTbw2WN2LYE1TE2WciOVvvW7bFi+wa771Axc2eccG2IIyBV8/2FZdsUEcxEWcxH2yOOujn3T5oeypAznduttXXp/htl0bpO9kkLt5o/vbvu9A9/dkQAe6Ida2C7Zvs80L5rjf4tQi2q5PRerKtSIeaQ/F0rBQxV4Zx/OEsdCxRo+NrntF/c4ffum2eW+EV98+LH98FAzLRc53dO179XF/czeUd/BhOIZjfSVq0b6ju1gW7NhWqQckHuG8kH6fVi8q/X6/neW9f/7Jxv7Xl90FicqAAOFuwueX/L/0vf90vzfOm1URPmGF4/O28Heufhn/v9+xV3/4Xy5s4vjddee5ML2XNWpfv+7Dee+xP7nt/g6HMgyH748HX3YsCK1ExEt3NNxU76goQ8Q5+E4mDGV768/+4Mp1ztP/rFK5JiJqa+wU9RasnvxmpXkiTdgxHFZUhFaGt1+0brDt9Z99v6I8uMnx4ccr42g7YwmnO1pOf7jlMnvp/33tuPqVv33rcWUctZfPY7SuR/eHwVbrp7/rhE3nQUNjWysnauNwWfl6+4//uK1if7heA3ERJ3HHq0PRvMUL31/T+B22S9imf//kTW5bVQi3P79EbbhtyfyK8o3mMUy0nOMdyzG+XvGXPO0JrrO+3P01kONSsX/YPhy7NcW07lq9wtW/7iNGuXYeLqN4dYt1wvbp8WkJtxm/+Hjj2ZZja7JuQ9ju8epConggfC4L6QuXB2n1efTr6dgH/PHhOKLhRvs+0hXv+hMGG1fWrunHfLj+/ET1ivRE+9Wnv3ZPwnSkU37J7AOVXStOFkmFnTeSNwAFFwWPF54vPB3eo5Iuk371YxcX7Fm/xh6/5yM24oZbK+7K2Tf1r+WelGTQsUIqd5Tc6VEREArV8YCQtpYdO7u7aS40c5/+h+Xv2OoqZvHe3RV32SwXfPqLFcKDysDdePjuGzvOfeqfsbXkUDmpsN5bxXLDt39c4R4mDuLGu9G4WVbsrOS8/j/fdjYBKjsXGx8+f0nfomBhH43Ge0q8lysVfLjeI8a5ybysYWg4CHHy1mv0WbGtx9KyfQdr2aGT7du8wQ6Vlca2movT12MaabqNkHLydqZOYqd3H3n4uHB8GyBP/oLhIT0vBnYjbZS998Ykc+XHa4N4pcLtwt/9su26//pBRXnEGzILl7H3tHFMNN2+nMLesC+/+I59+H9+fVz9apKd7cLz+LpJeny4L3zrS8dcEKlLI4M2zjEQT4hjL2zVrldfa5J1bByJIAxsvHn+LJc+bEx94MIftnHXIcNdnrCRr9ce4iLOaB3ypFIXVk56ze7627MufMqGMiL/2MG3fZ/3quA9eiz+2hOtRweKCu3+CbPi5tHjyzleOw9DHQrXK7yzzdu0c+vkj2s4HD5wICX7h+1DfO/9/Q/25ZfedXWF9a2L58eOPBZ/jb/sK/9lvc44J+6xbPN1i7J56r677dJ7v+nSz/qCsf92N4HeS88StlHYtj7PZ37sM+6cmqrbldWFZPHEa5vh8qiMVOxDPJX1w6xH+z6ETriecG7Ui15Zuybcsz726WPqNX1qonoF0X71Y79+NG460i2/RPbxVHatOFmkNRRLhQ9Tkr/PucUxaKKONhUwGOHTSWxfvsQZD+PTkVGBoTLPGpWdc0jzsCuvi22ND4X47u9/5tI9+taPx7ZWDR+fFxRhyAdeDfJB+irDN1Q62479BsS2Hk9N2T0KFZlyoOPyF1AEHOn3dz94Q/2+fudfmrYojopv0k8+kt3x0NB+OLKHW2jYdz36fNrDoz5vvp6lm27qjL979XUyyqBLrnLhYheIehXxbJF+LlyINRZ+cwNQnLs3dtSxJGqDvqOlzlM2XLyiF9B4hMsYuNCRJ2yLnT1VLeNw3cQr7u1BWwgPm1HXe4w8o8JzXlPkbdvibExbpE3SGTNdAzvj7fH4+keZQTwvfyJSqQteCIRvMv3NJOlhX3VAJOExIQ1cYwg3ii+7ZHlM1s5TJVxHc7qVt9HK7O/t4yGtrHuPfDzIM3WL+HqOOrOinfk8eHzd8iAA23bvWTGi4+EmiTyz0I6icM32bYt25+OvibqdrC6U5CVvQ9W5/kIq9vHpi9cPHyotFzDJ+r7qQLgIRNJE2rg+7lixNKV6lYx0y8+TqP7UZdIeio2HN3ZN4lW2X5J1xv4OhgJDuUcbShh/J0Jh3vbzP9bK/ClUPOklDx7SRyd6quFFt1/CHsbqVPR0zqWh+TvTyua8IZC4EKTj5akMLgj+zpC7RX8nWVWiYu1kzeOjY+PC7dtauL5Wl9q4JqRDTZZ/mJqoC9Wdo8YNkJ9ygVCnLlGnqkOydl4VasP+3jPNwk2RF6F01pRLOnjR5q8t5D8M/QSeHPZf/pX/im0tpybrdrK6cLLbEMTrh6Me+hNJTdSrumDX2qZawg4DY+jKVHMyj0QU78FZMn6sa1xAo0UUxfPohEVd1JPjvRHeWxYWdVwQk3k4/F2uvzvyat/fTaSCH7IhLg8VioqVKvFsh8udu5XonQb4MolHOu5in3/c6/6iif2YU+EvRtE7ZU/U7mGidvV3hlW9+wwT7nRxnVc3PI8Xi6lcEKijeB+pj1FvaptuPdzdH+0lPNkWm/q6niq+Y6JD8p47b+9URbP3ysTrXHw5RT2pyeoX+LrprwnJ7FEZPq506q2/y+fuHu9dZe3W10OfX0g2VJROXYjiy6W683F8+rApnofKiJdHT7J2XhXStX+q+HoE3uvsh9Iq63/i4b3p8abi+OsIZRx+YjPqJapO3U5WF5q3Td6GErVNTzr9bSKS9cPeY5eIyq4/qbZr732nPpGeZPUqXr8aTUdNlp8n2bXiZFJtYefndCGuosM5GBKXOx03wwV+6CkZCDMEGvhhTM7DBRyFCsddFfg4OD46wRF8Y+U4IL0cm0iAhIe6fBpoMJV5BIHhKD9MwkJc/s4vXLkIM5EXrzLbIRq5m6Jz9/EQFhch717mPOaTcbFlroSPk+3eDokg/1xA/TmEz3kHigvdsARxe9v4O+dU8OGGzyWs6DB/OngbkE5grk5NesAIKxX7hdtAPG8w7eWWoE5RF8LlNveZxPMqw/ZnoTxXT3nLxUW7YyiExbdBvHBc6Fj3No5Xv4FpCFzUfFo43uPLyQ+Ds586zYUsWr+iF3pfNyuzR2X4uowNUu24OQcb0wmQPmwXr92G80w7D9/kERdxxrvZSLUuxMNfU7xNsU9VSPW6miyPHl/O4XpGmLTzqpCq/dPFd/K+IwdfP4B5bIcPlLnfqeDbTPg65Il6Btnv+5SaqtuV1YVk8fgy8+eSPtompNvfJoJ4Uu2Ho1R2/amsXXu7E68X19SdZPWKJdqvxktHTZWfJ9m14mTS4GhA7He1QTw9/tnb3W8mxlanIQshRE1fU+YEwpdOnE413s2ErmFC1D6Z0M7qch6qPccOFYwa9oq+Ju7OhBACuI74d0Uxryze0FNNQdh+7tqp/H4tIeo6J7Jd1wZ1/VpRox47IYQQQghx8qiRp2KFEEIIIcTJR8JOCCGEECJDkLATQgghhMgQJOyEEEIIITIECTshhBBCiAxBwk4IIYQQIkOQsBNCCCGEyBAk7IQQQgghMgQJOyGEEEKIDEHCTgghhBAiQ5CwE0IIIYTIECTshBBCCCEyBAk7IYQQQogMQcJOCCGEECJDkLATQgghhMgQJOyEEEIIITIECTshhBBCiAxBwq6OsmrVKrvzzjstNzc3tuUDnnzySbdEf1eVVOOqCpz7ox/9KLaWuWA7bIgto5SWltoXv/hFe++992Jb4pOsHFLFx9WgQYNTxu41UYeTURN2TQfsHi8/pONb3/qWK6PqQhyV1afKSFZnq0Mq5VnduAmfOn7ttdeesHI9EZAX2i9/w78roybqeCrlBsSB3bF/KsfXJunYKBVqOryTRVJhR2UZNWpUveiYTyU+8YlPuKWq0BhTLdPqxiXMsrOz7U9/+pNdcMEFsS21x/z5893fkpIS++53v+t+V4ea6DCiRIVPTdexdOp3qtRGmNWBsk23PtVGWcajuuVZWTrZ/uqrr9rKlSttwoQJ1r59+9ieE0O0/p4MaqM+plpu2Jy6d/To0Rptt6kQrRuUPdfWmqoDNR1eImq7DiUVdnPnzrW7777btm3bVusXAyFE9dm4caN1797diUkhMpG9e/e6vx06dHB/xYll/fr11q9fv9iaqJMEqjsuwR3/0W9+85tHg7uioz/84Q+PTps2LbbnqPvNqSynn366OyZM0PCOfuxjHztmO2E88cQT7nf4/C984QsuLgjHwzb2heMNEy8NhO+3sfhz2Ud6CC+6L0q8cKPbr7nmGpdHYD/HRY9PBmGRV4jaytspWZrZ720Z/g2c74/3cYQJp5clnbii5/pjooRtxeLT4cs03vnhc8L2DW9PZN9ofGF7RAnbh8WnIdW0cYyvr9Fz4qWPfJCfcJiJ4uLcq6++2i3RfVHCZeHtlUr5hI/x6fVp9Hbz63//+9+PSSe/t27d6uoK1wa/jeP8MSzhePnttxPfv//97+OODdcxyoewfRoJ39s7mr/wPk/0GMJlW7L2X5U2Ey5XlnBaCOOOO+44bh/hkDd/XNg2vgwhnJ54eQSO8XngdyKbeVgP55/f0bJk8eUAidIXJmpb0hIuz2i8pJFzCCte3PHSGc5LdD/xQdhmPu5EaaN9hW01ceLEinN9eInKN2wTFtaj9cOXSzKi4fg0Ey9x8Tf8O0w0Ps6N5pUlnI6wfXweoxCOTwd/CcvbwJd/ON2+LMPpCdeTaBjjx493aQxf37C9T7MPD+LZJ17doA7z18eZalrC+8KwzYeXqK5FYXui9hfOh98ezVu4nGqKhB67zZs3u7+9evWyyy+/3N5++223jufu97//vXODB+fbM888c9ycEdyYN954o/P4Aefg9WNcHldqYIiK8y+66CL7xS9+4Y5LlWgYjzzyiLuLwy3MOgv7SKf3NK5YscI+9alPuX2BIe1f//rXcelOlDfiYztxsJ1hkD/84Q/u+Iceesgd549/9NFHK51Dw53m8uXL3fnE9fTTTztbcV5RUZGdeeaZ7rhU0hzGu3Y5ngWi83AGDx5sQSV09uMY70qvLC5+/+pXv3K25hhsEVTS2N4PiJZN0KBie8yVM94kfz425fhk9o1XHlH8sIAPl2EawoyCfaiHpJslaGixPcnTlqi+Rs8ZOnSo2x6GtvDiiy+mFJfnt7/9rdtHOeCy93XYw/r9999fURbY6zvf+Y5rq+GyjQ7VJaqvzZs3d7bxdsP21IXPfOYz9vWvf92Ci7FLJ0MUWVlZlpeXZ8FFzIXBNo7jNwt2Ij/EFbUd6SWNbKNesC3ecGJhYaHNmDGjon4xvBzNM7aJR7r1u6pthnJlSMqfR3mOHTs2dobZaaed5rb7PIT3AbaJV+eJ29dRtt92220VYSQjns3C4MGtrCwpJ+qAL7t46YtH2LYcFyZZG4kXN+mPpjPsfY7mg/ii7Xrq1KkVZRgvbX379j3GVjNnzqxIg78uJypf6mu4/p5xxhkpXRejpHrNikdt1PF44P3nXM4hvX4I1ud/4cKFri+Ldy3y1+lwGOecc44r8+9973tunTSSD8qTdeq61wzx7IMmiVeHPdFrRLK0+Pwkg/L2dZdl5MiRcfsfiNf+otc/33eEbejTUtMkFHbPPvusa3Q0pCFDhrgKT0LpBHJyctw2KgeVjHl4URAn/iKBATEQjYUCufDCC915/jjfmFIlGgaGYSEMP6mT9FGJPFxQ2AZUxtatW7vfYRLljfgQX5xH2MTNhSS4W3CNieN9nIsXL660YdO59ezZ04U7e/Zse+mll2zRokUu/a1atXL7IZU0h8FFTqMhLSz8pjKnQmVxUQ8oQ/JO46Asr7rqqtjeD4iWjYcGgWi9/fbb3TrnDxs2zDXkRPbldyp1jbD9AwOEQZnEA/tw4Qt3FFBZ2sL58fWV9IXPSZVkcUG7du1cHoB8t23b1qUhDOtcZOhUgOMKCgoqbsYSwXmJ6ivpQPTdcccd7ljfWcSDNPmbD0jU7qK28+20MrgAUka+zkE0z+mSqH5Xp83QDsLnhfFDVeSB/BBPGPITr863bNnSCY1bbrnF2ZU2RtlURjybpUK4LEkL7Q0SpS9exxa2bZhoXY+SKO50Cbdrb2/viIiXNuzDcR4cF0AagLxDsvL1eHtjn2TXxSipXrPSoabrOG3V171EQ6/Rdkn84WtROAygzL2d4dxzz63o74jDt5Oq2CedtKQylNynTx9nK9JBem6++eZj6k2YRNeseH1HOlqnqsQVdkRMR/rJT36ywrDeq0TCUcooTRoP+6nQUcgMHRbKFdGSbgeYLhgede7vWFDJVKJ0SJY3PC50gOxj8XcLNCYK0G9HxFZ2ISYeRDNpLC4udoUPr732mvvL/qri7wL8kqyDThfugAgTsE1NTt6NZ19ETip1LRXPmSgnlfqaqAOPR020u5NNVdoM10c8It6W3IGnS7w6z3UBTwj1nHRwI5OqJ6emiZe+6lybTiXSKd+qXBdP9DWrNvuF2qAuXNMRgsSPl/C88847pZ7AjivsuDj7TPmFbQg0FlzPQIWmwkTvRj2IOVyteKG8akUk4oL1FyvEIgLQdy7+TgKVzZ1rPKJh0AhxgwIqG6gMYY9dKhBevLwRH2nxwxt0ZuPGjXPbiSPs0mU7+1lQ+vGECJDOD3/4w+7OgbxzQedC6u8eqwJhcTHylY/80EnUBITJBYt8cVHA/vEEADYJ35X4ukGHQD149tln3Tr7OY67mET2TVQe8fB3YJT7vn373O8oHOPv5OmwfF2rLG3x6isXHc7xnrZk8YZJFlcU6hVeDH9H6yFNeNq8vWib8Y6Lkqy+kg4/TEveokOHlRGv3UVtRztlqQqEtWXLloq771S9apVRnTZDnvHyYz/aQjwIl/Cj7Zr8xKvzXC+wEdcEhvDxaGDTE02i9KWDr+vptpF08WVIGlkYiq3OddSTavkmui5SjsnEQCrXrJqgOnW8MqgnVbkWpUK69qnptND3YCu0y6RJk9wNazptkfTE6zsqc/zUBHGFHZ1ftGGEjUNCuTNhocJ8+ctfju05Fs7hwhQOCyPh3sRNyvk0wgceeMDtQwg+/PDDbjudTCKVHg2DhoUwwmuA94tt3GGl6zkgvfHyRnyM2/uwaex42iig3/zmNxVpZqFicUGjA8INTMOOB2lnroDv0Pl79dVXu8pQVbiwIMgJg7QwrEZaopAmLjock0h4RvGVkbxz3r333uvuZKLhYyvmV/o0LFu2LLbHXDlz0WM7+++77z53fCL7JiqPKOF689WvfjW29XhuvfXWivivuOIKd8PiSZa2RPWVtJCmyuKNkiguYMjB246wf/zjHx9nY1/vKAOOo/7HOy5KovqKyKXuUG6kw+eLusE6FyPSxI1KWVlZLLRyiDNRu4vajnTyO1xeqQo90o6dfFivvPJKbM/xpFO/q9pm/HAPdZW7+Q0bNrh1T3i0A/sQRxhsE6/Ocx3w5co2RHb03KpSWVmGSZS+dKlKG4mmE5GUDMoQO5FGFobFqmuzZOUbrr+IB+A41sPXRfpRyt5fO8Okes1KRG3U8apQ1WtRZSSyT7I6XNNpOfvssyuuN8Tnr4+pwrGpaJ1Ur4Hp0CDo3D7o3WoYOmUmZ//gBz+osYp0qkBh0bDxNIm6B3evCAVuINJprFWBuLi4UhdqqpOu79CZ4b1V+zp1oD+gvfFQRjyxk0kgRr///e/bPffcU+vXFyGiJHx4orpQsXFlJptwmMkwVFQTwwGi5qBjYc5SVe/A0oU2wF0lcTGsU9WJ/6Ic7sApO5ZE3ltRt/BeJRY8F9xMZbqoA7zgDENXdRhQiOpQqx47IYQQQghx4qg1j50QQgghhDixSNgJIYQQQmQIEnZCCCGEEBnCSRd2PN1W2ePaVcVPXk/2ODFx8+h4vHcNMdn+zjvvTPgeokwDWzDJOZE9ahvs/a1vfavS1xtEqep5J4varFeEfc0117i/Qggh6h+nhMeutjpCwuWzZwgantTiL0/e1UewLbbgvUypfD2jNuAJ1Z///OdpP0Vd1fMyEWzBt2ZT+WaxEEKIzKNeD8U+++yz7pUX9eHx+8rwb9Tm1Rzi1AZxx6sW/BvYhRBC1B/iCju8N3jIGN7y7yAKD5eG303k3wye7Bw8Y+GhMs7354UJh+vP5xjeh+c/SO3PI0z/TrLo9xT9+654G/if//zn2NZjIb3hTzlxPm+C5k3RPm4P38L0aQoP64bfq+U9fVE7+PTGOzZKvPxDbYQZJmpjH1a88Dnfh4HNvCeVMEhX2D4ezuUrG+GwCMOvh8Pz9SRcviw+3HB+fLlHzyNNpCV6LoTzFN3nSRZGOP/g8+J/p5JP4BM5H//4xyv2+fC9HaPnRNNE2PFs4eEdiv7zaUIIIeoPCT12fO+Rz3TxmjuG5x5//HHXcbDw2SC2sY/Pt/DB3mTnpApv5edcFjxIDA3yaS4+0UKHyTY+RM3LH/13LTmWv37oiY6QzzVxDAvfX40HYfXs2bPiBZJ4OfiuLXkjTL4UAHziyX/gnO++8WJUHw/49ILvnMN2IL3+u5vxjg0TL//efrURpochzLCNeZt/ovzxol0+jYIN+PYdYpCyxtbAS0jjcdppp1WkwaeTdWzqw/PwG6HJJ438OYSPgOSt9b7uUe7h8zzJyiyVugGJwqiMdPLJkKnfh1Ajf7Ql2hTbSSPfZvblFU4TL+dNZgsEelFRUUppFkIIkTkkFHZ879F7sxA/ffv2dZ0VC98PRAgBx+D5wgOR6JxUoRPyHgk6JjqyeBAm+/w32Pjrv3nJZ4bo/GpqvhXfq/VihTS1bt3a/SYe791j4bf/MHnYDpDs2DDJ8l8bYSYjUfjeFogQjnnppZecZ4gyoU4kGtb2H3SGcF5IE9/Upew8lB3ffqSeIcYI86qrrnIeWD7qTBoQTcSHpypKsjJLtW4kCqMyUs1nu3bt3DYgHo7dunWrE57+O6PkFy+yb0PhNKVqCyGEEPWLOjXHDm8FHToeCDozOrJEsI9jOJblZEz4f+KJJyriZ/Fevnikcmw6+YfaCDNMvPCxMSJi3rx51rJlSye+ECOvvfaaderUKXZm9cFrSJyAyMGjhSDDW8l2xCTbvWcxk8CDF7Z7vO/L1hdbCCGESI+UhB2TsL23Bi8DHY8fHmI4btiwYc4DESZ8DmzZsqXCW5Fs7o/3eCBC8ALGgzQwNImY84wbN855pzjfh0988bxYQBikiaHeqkA8DM/huQLssXDhQvc7SrrHQrL8Q22EGSZZ+Ai4D3/4w3b22Wc7oYdwfOyxx47xKFYH0oiQozwRk9Q3xCPDkgzRAsIP4YkXLlXIUyp1ozJ8nNjGD7dWB+ox3rdBgwY5W4aHfbG5b2th2JbMFpQ1D1AgADlWr0ARQoj6QdI5dogyPAH33nuv/eY3v6nw1jAs5/cxb+iBBx6o9BzEH2KKfYm4/fbb3dATx3z1q1+NbS2f/+bPZ1iRYSjC9seyMBRLJ3brrbc6EcC2K664wnk04kG6CBNh6uH9bXTUnFuZ9wPBgSfF5+mOO+5IOMSX6rGJ8h+P2ggzTLLwEXDMx/OinYn6Xbp0ccfWBP4mgXImbuoScwARPogTtrEggNL5EHyqdSMZ4TqCjZhzWBUYEve2JR8//vGPnX19W/J5f/DBB+PalakOyWyBgKVchBBC1C8aBJ3bcb0bnoj77rvPPaCAqEqFqpxzsqFjJL1MQkfoifrDqVhfU4V6zcNEP/jBDxLebAghhMhM6tQcuxMNHTrvscPz4occReaC4PGvUMELRtlnoqjDM3vPPfdI1AkhRD0krsdOCCGEEEKcetRrj50QQgghROZg9v8Bl619/fbhACkAAAAASUVORK5CYII=)"
      ]
    },
    {
      "cell_type": "markdown",
      "metadata": {
        "id": "CAeCK63wGEdD"
      },
      "source": [
        "## Context Retrieval"
      ]
    },
    {
      "cell_type": "markdown",
      "metadata": {
        "id": "XkxsdyZ4GISQ"
      },
      "source": [
        "### Keyword Based Retrieval"
      ]
    },
    {
      "cell_type": "code",
      "execution_count": 1,
      "metadata": {
        "colab": {
          "base_uri": "https://localhost:8080/"
        },
        "id": "Bj4Mz67xtiHc",
        "outputId": "b5747906-e998-4c4c-ece2-992172370b0d"
      },
      "outputs": [
        {
          "name": "stdout",
          "output_type": "stream",
          "text": [
            "Collecting rank_bm25\n",
            "  Downloading rank_bm25-0.2.2-py3-none-any.whl (8.6 kB)\n",
            "Requirement already satisfied: numpy in /usr/local/lib/python3.10/dist-packages (from rank_bm25) (1.25.2)\n",
            "Installing collected packages: rank_bm25\n",
            "Successfully installed rank_bm25-0.2.2\n"
          ]
        }
      ],
      "source": [
        "!pip install rank_bm25\n"
      ]
    },
    {
      "cell_type": "code",
      "execution_count": 3,
      "metadata": {
        "id": "GzV5AJXZGLRm"
      },
      "outputs": [],
      "source": [
        "from rank_bm25 import BM25Okapi\n",
        "\n",
        "corpus = [\n",
        "    \"Hello there how are you!\",\n",
        "    \"It is quite windy in Boston\",\n",
        "    \"How is the weather tomorrow?\"\n",
        "]\n",
        "\n",
        "tokenized_corpus = [doc.split(\" \") for doc in corpus]\n",
        "\n",
        "bm25 = BM25Okapi(tokenized_corpus)"
      ]
    },
    {
      "cell_type": "code",
      "execution_count": 4,
      "metadata": {
        "id": "s0FrNQ-VGPHx"
      },
      "outputs": [],
      "source": [
        "query = \"windy day\"\n",
        "tokenized_query = query.split(\" \")\n",
        "\n",
        "doc_scores = bm25.get_scores(tokenized_query)"
      ]
    },
    {
      "cell_type": "code",
      "execution_count": 5,
      "metadata": {
        "colab": {
          "base_uri": "https://localhost:8080/"
        },
        "id": "DjYqyfyPGYHk",
        "outputId": "561bfd8d-8677-436f-8cee-93f2703d0c26"
      },
      "outputs": [
        {
          "data": {
            "text/plain": [
              "array([0.        , 0.48362189, 0.        ])"
            ]
          },
          "execution_count": 5,
          "metadata": {},
          "output_type": "execute_result"
        }
      ],
      "source": [
        "doc_scores"
      ]
    },
    {
      "cell_type": "markdown",
      "metadata": {
        "id": "s3wK7PV3HSYh"
      },
      "source": [
        "### Embeddings Based Retrieval"
      ]
    },
    {
      "cell_type": "code",
      "execution_count": null,
      "metadata": {
        "id": "9HHhLB1YGY4K"
      },
      "outputs": [],
      "source": []
    }
  ],
  "metadata": {
    "colab": {
      "provenance": []
    },
    "kernelspec": {
      "display_name": "Python 3",
      "name": "python3"
    },
    "language_info": {
      "codemirror_mode": {
        "name": "ipython",
        "version": 3
      },
      "file_extension": ".py",
      "mimetype": "text/x-python",
      "name": "python",
      "nbconvert_exporter": "python",
      "pygments_lexer": "ipython3",
      "version": "3.9.5"
    },
    "widgets": {
      "application/vnd.jupyter.widget-state+json": {
        "0ba8f9e43e7949eeb6e2284a5767c046": {
          "model_module": "@jupyter-widgets/controls",
          "model_module_version": "1.5.0",
          "model_name": "HTMLModel",
          "state": {
            "_dom_classes": [],
            "_model_module": "@jupyter-widgets/controls",
            "_model_module_version": "1.5.0",
            "_model_name": "HTMLModel",
            "_view_count": null,
            "_view_module": "@jupyter-widgets/controls",
            "_view_module_version": "1.5.0",
            "_view_name": "HTMLView",
            "description": "",
            "description_tooltip": null,
            "layout": "IPY_MODEL_21e61cdfe16f4adfaf9caa250041cb9f",
            "placeholder": "​",
            "style": "IPY_MODEL_2d5524c53add4b038f17d865cf907afe",
            "value": " 115M/115M [00:00&lt;00:00, 234MB/s]"
          }
        },
        "0dc2dff35bc14f8880f47fd83ec796a3": {
          "model_module": "@jupyter-widgets/controls",
          "model_module_version": "1.5.0",
          "model_name": "HTMLModel",
          "state": {
            "_dom_classes": [],
            "_model_module": "@jupyter-widgets/controls",
            "_model_module_version": "1.5.0",
            "_model_name": "HTMLModel",
            "_view_count": null,
            "_view_module": "@jupyter-widgets/controls",
            "_view_module_version": "1.5.0",
            "_view_name": "HTMLView",
            "description": "",
            "description_tooltip": null,
            "layout": "IPY_MODEL_c9b5d4c63f354d6ab0612fd4affc0405",
            "placeholder": "​",
            "style": "IPY_MODEL_d1bf33abe999403b8a31bd70f7e016c1",
            "value": "model.safetensors: 100%"
          }
        },
        "10f7d377381d406583866af0e012d24d": {
          "model_module": "@jupyter-widgets/base",
          "model_module_version": "1.2.0",
          "model_name": "LayoutModel",
          "state": {
            "_model_module": "@jupyter-widgets/base",
            "_model_module_version": "1.2.0",
            "_model_name": "LayoutModel",
            "_view_count": null,
            "_view_module": "@jupyter-widgets/base",
            "_view_module_version": "1.2.0",
            "_view_name": "LayoutView",
            "align_content": null,
            "align_items": null,
            "align_self": null,
            "border": null,
            "bottom": null,
            "display": null,
            "flex": null,
            "flex_flow": null,
            "grid_area": null,
            "grid_auto_columns": null,
            "grid_auto_flow": null,
            "grid_auto_rows": null,
            "grid_column": null,
            "grid_gap": null,
            "grid_row": null,
            "grid_template_areas": null,
            "grid_template_columns": null,
            "grid_template_rows": null,
            "height": null,
            "justify_content": null,
            "justify_items": null,
            "left": null,
            "margin": null,
            "max_height": null,
            "max_width": null,
            "min_height": null,
            "min_width": null,
            "object_fit": null,
            "object_position": null,
            "order": null,
            "overflow": null,
            "overflow_x": null,
            "overflow_y": null,
            "padding": null,
            "right": null,
            "top": null,
            "visibility": null,
            "width": null
          }
        },
        "145d4ecf0e434b74b8b68ae3edfdff2c": {
          "model_module": "@jupyter-widgets/controls",
          "model_module_version": "1.5.0",
          "model_name": "HBoxModel",
          "state": {
            "_dom_classes": [],
            "_model_module": "@jupyter-widgets/controls",
            "_model_module_version": "1.5.0",
            "_model_name": "HBoxModel",
            "_view_count": null,
            "_view_module": "@jupyter-widgets/controls",
            "_view_module_version": "1.5.0",
            "_view_name": "HBoxView",
            "box_style": "",
            "children": [
              "IPY_MODEL_0dc2dff35bc14f8880f47fd83ec796a3",
              "IPY_MODEL_23d7f519b8674ff38c31089eff4f29b7",
              "IPY_MODEL_0ba8f9e43e7949eeb6e2284a5767c046"
            ],
            "layout": "IPY_MODEL_84646289379d49d0adced50a03fae9d3"
          }
        },
        "1c895f46b3c348648305b43f29fd6f24": {
          "model_module": "@jupyter-widgets/controls",
          "model_module_version": "1.5.0",
          "model_name": "FloatProgressModel",
          "state": {
            "_dom_classes": [],
            "_model_module": "@jupyter-widgets/controls",
            "_model_module_version": "1.5.0",
            "_model_name": "FloatProgressModel",
            "_view_count": null,
            "_view_module": "@jupyter-widgets/controls",
            "_view_module_version": "1.5.0",
            "_view_name": "ProgressView",
            "bar_style": "success",
            "description": "",
            "description_tooltip": null,
            "layout": "IPY_MODEL_d62f74fed66649e3b38bee8e03a48c05",
            "max": 46807446,
            "min": 0,
            "orientation": "horizontal",
            "style": "IPY_MODEL_9c478ffe783f415893ee450e424373ef",
            "value": 46807446
          }
        },
        "1ff6facaa49b42ffba4fc054db1f1023": {
          "model_module": "@jupyter-widgets/controls",
          "model_module_version": "1.5.0",
          "model_name": "DescriptionStyleModel",
          "state": {
            "_model_module": "@jupyter-widgets/controls",
            "_model_module_version": "1.5.0",
            "_model_name": "DescriptionStyleModel",
            "_view_count": null,
            "_view_module": "@jupyter-widgets/base",
            "_view_module_version": "1.2.0",
            "_view_name": "StyleView",
            "description_width": ""
          }
        },
        "21e61cdfe16f4adfaf9caa250041cb9f": {
          "model_module": "@jupyter-widgets/base",
          "model_module_version": "1.2.0",
          "model_name": "LayoutModel",
          "state": {
            "_model_module": "@jupyter-widgets/base",
            "_model_module_version": "1.2.0",
            "_model_name": "LayoutModel",
            "_view_count": null,
            "_view_module": "@jupyter-widgets/base",
            "_view_module_version": "1.2.0",
            "_view_name": "LayoutView",
            "align_content": null,
            "align_items": null,
            "align_self": null,
            "border": null,
            "bottom": null,
            "display": null,
            "flex": null,
            "flex_flow": null,
            "grid_area": null,
            "grid_auto_columns": null,
            "grid_auto_flow": null,
            "grid_auto_rows": null,
            "grid_column": null,
            "grid_gap": null,
            "grid_row": null,
            "grid_template_areas": null,
            "grid_template_columns": null,
            "grid_template_rows": null,
            "height": null,
            "justify_content": null,
            "justify_items": null,
            "left": null,
            "margin": null,
            "max_height": null,
            "max_width": null,
            "min_height": null,
            "min_width": null,
            "object_fit": null,
            "object_position": null,
            "order": null,
            "overflow": null,
            "overflow_x": null,
            "overflow_y": null,
            "padding": null,
            "right": null,
            "top": null,
            "visibility": null,
            "width": null
          }
        },
        "23d7f519b8674ff38c31089eff4f29b7": {
          "model_module": "@jupyter-widgets/controls",
          "model_module_version": "1.5.0",
          "model_name": "FloatProgressModel",
          "state": {
            "_dom_classes": [],
            "_model_module": "@jupyter-widgets/controls",
            "_model_module_version": "1.5.0",
            "_model_name": "FloatProgressModel",
            "_view_count": null,
            "_view_module": "@jupyter-widgets/controls",
            "_view_module_version": "1.5.0",
            "_view_name": "ProgressView",
            "bar_style": "success",
            "description": "",
            "description_tooltip": null,
            "layout": "IPY_MODEL_eb469542bb8a4b9bb7a5cc7649c89c41",
            "max": 115434268,
            "min": 0,
            "orientation": "horizontal",
            "style": "IPY_MODEL_7549ad4b642642269476f1d31a3a02e5",
            "value": 115434268
          }
        },
        "2d5524c53add4b038f17d865cf907afe": {
          "model_module": "@jupyter-widgets/controls",
          "model_module_version": "1.5.0",
          "model_name": "DescriptionStyleModel",
          "state": {
            "_model_module": "@jupyter-widgets/controls",
            "_model_module_version": "1.5.0",
            "_model_name": "DescriptionStyleModel",
            "_view_count": null,
            "_view_module": "@jupyter-widgets/base",
            "_view_module_version": "1.2.0",
            "_view_name": "StyleView",
            "description_width": ""
          }
        },
        "40d8879cb2534c8ab639c4335772c750": {
          "model_module": "@jupyter-widgets/base",
          "model_module_version": "1.2.0",
          "model_name": "LayoutModel",
          "state": {
            "_model_module": "@jupyter-widgets/base",
            "_model_module_version": "1.2.0",
            "_model_name": "LayoutModel",
            "_view_count": null,
            "_view_module": "@jupyter-widgets/base",
            "_view_module_version": "1.2.0",
            "_view_name": "LayoutView",
            "align_content": null,
            "align_items": null,
            "align_self": null,
            "border": null,
            "bottom": null,
            "display": null,
            "flex": null,
            "flex_flow": null,
            "grid_area": null,
            "grid_auto_columns": null,
            "grid_auto_flow": null,
            "grid_auto_rows": null,
            "grid_column": null,
            "grid_gap": null,
            "grid_row": null,
            "grid_template_areas": null,
            "grid_template_columns": null,
            "grid_template_rows": null,
            "height": null,
            "justify_content": null,
            "justify_items": null,
            "left": null,
            "margin": null,
            "max_height": null,
            "max_width": null,
            "min_height": null,
            "min_width": null,
            "object_fit": null,
            "object_position": null,
            "order": null,
            "overflow": null,
            "overflow_x": null,
            "overflow_y": null,
            "padding": null,
            "right": null,
            "top": null,
            "visibility": null,
            "width": null
          }
        },
        "42bb5d2761da40eeb4149ee371e37412": {
          "model_module": "@jupyter-widgets/controls",
          "model_module_version": "1.5.0",
          "model_name": "HTMLModel",
          "state": {
            "_dom_classes": [],
            "_model_module": "@jupyter-widgets/controls",
            "_model_module_version": "1.5.0",
            "_model_name": "HTMLModel",
            "_view_count": null,
            "_view_module": "@jupyter-widgets/controls",
            "_view_module_version": "1.5.0",
            "_view_name": "HTMLView",
            "description": "",
            "description_tooltip": null,
            "layout": "IPY_MODEL_85f96a97ce564721a806fb38ea5e7405",
            "placeholder": "​",
            "style": "IPY_MODEL_1ff6facaa49b42ffba4fc054db1f1023",
            "value": "model.safetensors: 100%"
          }
        },
        "603551e04dd543ea9c12564c351ce745": {
          "model_module": "@jupyter-widgets/controls",
          "model_module_version": "1.5.0",
          "model_name": "HTMLModel",
          "state": {
            "_dom_classes": [],
            "_model_module": "@jupyter-widgets/controls",
            "_model_module_version": "1.5.0",
            "_model_name": "HTMLModel",
            "_view_count": null,
            "_view_module": "@jupyter-widgets/controls",
            "_view_module_version": "1.5.0",
            "_view_name": "HTMLView",
            "description": "",
            "description_tooltip": null,
            "layout": "IPY_MODEL_d68a72711a2a47ca98403be67640a8f2",
            "placeholder": "​",
            "style": "IPY_MODEL_b0cec9e5ffeb4d71969014bd58aa402a",
            "value": " 1.47k/1.47k [00:00&lt;00:00, 69.0kB/s]"
          }
        },
        "6189b8d4a230445ba1067e6afdbd129f": {
          "model_module": "@jupyter-widgets/controls",
          "model_module_version": "1.5.0",
          "model_name": "ProgressStyleModel",
          "state": {
            "_model_module": "@jupyter-widgets/controls",
            "_model_module_version": "1.5.0",
            "_model_name": "ProgressStyleModel",
            "_view_count": null,
            "_view_module": "@jupyter-widgets/base",
            "_view_module_version": "1.2.0",
            "_view_name": "StyleView",
            "bar_color": null,
            "description_width": ""
          }
        },
        "6ca2798e845e4afcb83892d881e12e65": {
          "model_module": "@jupyter-widgets/base",
          "model_module_version": "1.2.0",
          "model_name": "LayoutModel",
          "state": {
            "_model_module": "@jupyter-widgets/base",
            "_model_module_version": "1.2.0",
            "_model_name": "LayoutModel",
            "_view_count": null,
            "_view_module": "@jupyter-widgets/base",
            "_view_module_version": "1.2.0",
            "_view_name": "LayoutView",
            "align_content": null,
            "align_items": null,
            "align_self": null,
            "border": null,
            "bottom": null,
            "display": null,
            "flex": null,
            "flex_flow": null,
            "grid_area": null,
            "grid_auto_columns": null,
            "grid_auto_flow": null,
            "grid_auto_rows": null,
            "grid_column": null,
            "grid_gap": null,
            "grid_row": null,
            "grid_template_areas": null,
            "grid_template_columns": null,
            "grid_template_rows": null,
            "height": null,
            "justify_content": null,
            "justify_items": null,
            "left": null,
            "margin": null,
            "max_height": null,
            "max_width": null,
            "min_height": null,
            "min_width": null,
            "object_fit": null,
            "object_position": null,
            "order": null,
            "overflow": null,
            "overflow_x": null,
            "overflow_y": null,
            "padding": null,
            "right": null,
            "top": null,
            "visibility": null,
            "width": null
          }
        },
        "6f932367924646fcb93c2517491192da": {
          "model_module": "@jupyter-widgets/controls",
          "model_module_version": "1.5.0",
          "model_name": "HBoxModel",
          "state": {
            "_dom_classes": [],
            "_model_module": "@jupyter-widgets/controls",
            "_model_module_version": "1.5.0",
            "_model_name": "HBoxModel",
            "_view_count": null,
            "_view_module": "@jupyter-widgets/controls",
            "_view_module_version": "1.5.0",
            "_view_name": "HBoxView",
            "box_style": "",
            "children": [
              "IPY_MODEL_d8bebd6c2b92459990e19d3690004edf",
              "IPY_MODEL_988bad5b3fe146c1842eb4893fb13c81",
              "IPY_MODEL_603551e04dd543ea9c12564c351ce745"
            ],
            "layout": "IPY_MODEL_fabd5a8da2c1435fab2c9513817cb108"
          }
        },
        "7549ad4b642642269476f1d31a3a02e5": {
          "model_module": "@jupyter-widgets/controls",
          "model_module_version": "1.5.0",
          "model_name": "ProgressStyleModel",
          "state": {
            "_model_module": "@jupyter-widgets/controls",
            "_model_module_version": "1.5.0",
            "_model_name": "ProgressStyleModel",
            "_view_count": null,
            "_view_module": "@jupyter-widgets/base",
            "_view_module_version": "1.2.0",
            "_view_name": "StyleView",
            "bar_color": null,
            "description_width": ""
          }
        },
        "84646289379d49d0adced50a03fae9d3": {
          "model_module": "@jupyter-widgets/base",
          "model_module_version": "1.2.0",
          "model_name": "LayoutModel",
          "state": {
            "_model_module": "@jupyter-widgets/base",
            "_model_module_version": "1.2.0",
            "_model_name": "LayoutModel",
            "_view_count": null,
            "_view_module": "@jupyter-widgets/base",
            "_view_module_version": "1.2.0",
            "_view_name": "LayoutView",
            "align_content": null,
            "align_items": null,
            "align_self": null,
            "border": null,
            "bottom": null,
            "display": null,
            "flex": null,
            "flex_flow": null,
            "grid_area": null,
            "grid_auto_columns": null,
            "grid_auto_flow": null,
            "grid_auto_rows": null,
            "grid_column": null,
            "grid_gap": null,
            "grid_row": null,
            "grid_template_areas": null,
            "grid_template_columns": null,
            "grid_template_rows": null,
            "height": null,
            "justify_content": null,
            "justify_items": null,
            "left": null,
            "margin": null,
            "max_height": null,
            "max_width": null,
            "min_height": null,
            "min_width": null,
            "object_fit": null,
            "object_position": null,
            "order": null,
            "overflow": null,
            "overflow_x": null,
            "overflow_y": null,
            "padding": null,
            "right": null,
            "top": null,
            "visibility": null,
            "width": null
          }
        },
        "85f96a97ce564721a806fb38ea5e7405": {
          "model_module": "@jupyter-widgets/base",
          "model_module_version": "1.2.0",
          "model_name": "LayoutModel",
          "state": {
            "_model_module": "@jupyter-widgets/base",
            "_model_module_version": "1.2.0",
            "_model_name": "LayoutModel",
            "_view_count": null,
            "_view_module": "@jupyter-widgets/base",
            "_view_module_version": "1.2.0",
            "_view_name": "LayoutView",
            "align_content": null,
            "align_items": null,
            "align_self": null,
            "border": null,
            "bottom": null,
            "display": null,
            "flex": null,
            "flex_flow": null,
            "grid_area": null,
            "grid_auto_columns": null,
            "grid_auto_flow": null,
            "grid_auto_rows": null,
            "grid_column": null,
            "grid_gap": null,
            "grid_row": null,
            "grid_template_areas": null,
            "grid_template_columns": null,
            "grid_template_rows": null,
            "height": null,
            "justify_content": null,
            "justify_items": null,
            "left": null,
            "margin": null,
            "max_height": null,
            "max_width": null,
            "min_height": null,
            "min_width": null,
            "object_fit": null,
            "object_position": null,
            "order": null,
            "overflow": null,
            "overflow_x": null,
            "overflow_y": null,
            "padding": null,
            "right": null,
            "top": null,
            "visibility": null,
            "width": null
          }
        },
        "901622d84a504a71b1341c342e3ab073": {
          "model_module": "@jupyter-widgets/controls",
          "model_module_version": "1.5.0",
          "model_name": "DescriptionStyleModel",
          "state": {
            "_model_module": "@jupyter-widgets/controls",
            "_model_module_version": "1.5.0",
            "_model_name": "DescriptionStyleModel",
            "_view_count": null,
            "_view_module": "@jupyter-widgets/base",
            "_view_module_version": "1.2.0",
            "_view_name": "StyleView",
            "description_width": ""
          }
        },
        "988bad5b3fe146c1842eb4893fb13c81": {
          "model_module": "@jupyter-widgets/controls",
          "model_module_version": "1.5.0",
          "model_name": "FloatProgressModel",
          "state": {
            "_dom_classes": [],
            "_model_module": "@jupyter-widgets/controls",
            "_model_module_version": "1.5.0",
            "_model_name": "FloatProgressModel",
            "_view_count": null,
            "_view_module": "@jupyter-widgets/controls",
            "_view_module_version": "1.5.0",
            "_view_name": "ProgressView",
            "bar_style": "success",
            "description": "",
            "description_tooltip": null,
            "layout": "IPY_MODEL_10f7d377381d406583866af0e012d24d",
            "max": 1469,
            "min": 0,
            "orientation": "horizontal",
            "style": "IPY_MODEL_6189b8d4a230445ba1067e6afdbd129f",
            "value": 1469
          }
        },
        "9c478ffe783f415893ee450e424373ef": {
          "model_module": "@jupyter-widgets/controls",
          "model_module_version": "1.5.0",
          "model_name": "ProgressStyleModel",
          "state": {
            "_model_module": "@jupyter-widgets/controls",
            "_model_module_version": "1.5.0",
            "_model_name": "ProgressStyleModel",
            "_view_count": null,
            "_view_module": "@jupyter-widgets/base",
            "_view_module_version": "1.2.0",
            "_view_name": "StyleView",
            "bar_color": null,
            "description_width": ""
          }
        },
        "a13a8f8ce94849158ca5d218073eadc4": {
          "model_module": "@jupyter-widgets/controls",
          "model_module_version": "1.5.0",
          "model_name": "DescriptionStyleModel",
          "state": {
            "_model_module": "@jupyter-widgets/controls",
            "_model_module_version": "1.5.0",
            "_model_name": "DescriptionStyleModel",
            "_view_count": null,
            "_view_module": "@jupyter-widgets/base",
            "_view_module_version": "1.2.0",
            "_view_name": "StyleView",
            "description_width": ""
          }
        },
        "b0cec9e5ffeb4d71969014bd58aa402a": {
          "model_module": "@jupyter-widgets/controls",
          "model_module_version": "1.5.0",
          "model_name": "DescriptionStyleModel",
          "state": {
            "_model_module": "@jupyter-widgets/controls",
            "_model_module_version": "1.5.0",
            "_model_name": "DescriptionStyleModel",
            "_view_count": null,
            "_view_module": "@jupyter-widgets/base",
            "_view_module_version": "1.2.0",
            "_view_name": "StyleView",
            "description_width": ""
          }
        },
        "c94264912f654554b57f8848d0acbf0f": {
          "model_module": "@jupyter-widgets/base",
          "model_module_version": "1.2.0",
          "model_name": "LayoutModel",
          "state": {
            "_model_module": "@jupyter-widgets/base",
            "_model_module_version": "1.2.0",
            "_model_name": "LayoutModel",
            "_view_count": null,
            "_view_module": "@jupyter-widgets/base",
            "_view_module_version": "1.2.0",
            "_view_name": "LayoutView",
            "align_content": null,
            "align_items": null,
            "align_self": null,
            "border": null,
            "bottom": null,
            "display": null,
            "flex": null,
            "flex_flow": null,
            "grid_area": null,
            "grid_auto_columns": null,
            "grid_auto_flow": null,
            "grid_auto_rows": null,
            "grid_column": null,
            "grid_gap": null,
            "grid_row": null,
            "grid_template_areas": null,
            "grid_template_columns": null,
            "grid_template_rows": null,
            "height": null,
            "justify_content": null,
            "justify_items": null,
            "left": null,
            "margin": null,
            "max_height": null,
            "max_width": null,
            "min_height": null,
            "min_width": null,
            "object_fit": null,
            "object_position": null,
            "order": null,
            "overflow": null,
            "overflow_x": null,
            "overflow_y": null,
            "padding": null,
            "right": null,
            "top": null,
            "visibility": null,
            "width": null
          }
        },
        "c9b5d4c63f354d6ab0612fd4affc0405": {
          "model_module": "@jupyter-widgets/base",
          "model_module_version": "1.2.0",
          "model_name": "LayoutModel",
          "state": {
            "_model_module": "@jupyter-widgets/base",
            "_model_module_version": "1.2.0",
            "_model_name": "LayoutModel",
            "_view_count": null,
            "_view_module": "@jupyter-widgets/base",
            "_view_module_version": "1.2.0",
            "_view_name": "LayoutView",
            "align_content": null,
            "align_items": null,
            "align_self": null,
            "border": null,
            "bottom": null,
            "display": null,
            "flex": null,
            "flex_flow": null,
            "grid_area": null,
            "grid_auto_columns": null,
            "grid_auto_flow": null,
            "grid_auto_rows": null,
            "grid_column": null,
            "grid_gap": null,
            "grid_row": null,
            "grid_template_areas": null,
            "grid_template_columns": null,
            "grid_template_rows": null,
            "height": null,
            "justify_content": null,
            "justify_items": null,
            "left": null,
            "margin": null,
            "max_height": null,
            "max_width": null,
            "min_height": null,
            "min_width": null,
            "object_fit": null,
            "object_position": null,
            "order": null,
            "overflow": null,
            "overflow_x": null,
            "overflow_y": null,
            "padding": null,
            "right": null,
            "top": null,
            "visibility": null,
            "width": null
          }
        },
        "d1bf33abe999403b8a31bd70f7e016c1": {
          "model_module": "@jupyter-widgets/controls",
          "model_module_version": "1.5.0",
          "model_name": "DescriptionStyleModel",
          "state": {
            "_model_module": "@jupyter-widgets/controls",
            "_model_module_version": "1.5.0",
            "_model_name": "DescriptionStyleModel",
            "_view_count": null,
            "_view_module": "@jupyter-widgets/base",
            "_view_module_version": "1.2.0",
            "_view_name": "StyleView",
            "description_width": ""
          }
        },
        "d47970efad814011a432c2292bd620a6": {
          "model_module": "@jupyter-widgets/controls",
          "model_module_version": "1.5.0",
          "model_name": "HTMLModel",
          "state": {
            "_dom_classes": [],
            "_model_module": "@jupyter-widgets/controls",
            "_model_module_version": "1.5.0",
            "_model_name": "HTMLModel",
            "_view_count": null,
            "_view_module": "@jupyter-widgets/controls",
            "_view_module_version": "1.5.0",
            "_view_name": "HTMLView",
            "description": "",
            "description_tooltip": null,
            "layout": "IPY_MODEL_40d8879cb2534c8ab639c4335772c750",
            "placeholder": "​",
            "style": "IPY_MODEL_a13a8f8ce94849158ca5d218073eadc4",
            "value": " 46.8M/46.8M [00:00&lt;00:00, 197MB/s]"
          }
        },
        "d62f74fed66649e3b38bee8e03a48c05": {
          "model_module": "@jupyter-widgets/base",
          "model_module_version": "1.2.0",
          "model_name": "LayoutModel",
          "state": {
            "_model_module": "@jupyter-widgets/base",
            "_model_module_version": "1.2.0",
            "_model_name": "LayoutModel",
            "_view_count": null,
            "_view_module": "@jupyter-widgets/base",
            "_view_module_version": "1.2.0",
            "_view_name": "LayoutView",
            "align_content": null,
            "align_items": null,
            "align_self": null,
            "border": null,
            "bottom": null,
            "display": null,
            "flex": null,
            "flex_flow": null,
            "grid_area": null,
            "grid_auto_columns": null,
            "grid_auto_flow": null,
            "grid_auto_rows": null,
            "grid_column": null,
            "grid_gap": null,
            "grid_row": null,
            "grid_template_areas": null,
            "grid_template_columns": null,
            "grid_template_rows": null,
            "height": null,
            "justify_content": null,
            "justify_items": null,
            "left": null,
            "margin": null,
            "max_height": null,
            "max_width": null,
            "min_height": null,
            "min_width": null,
            "object_fit": null,
            "object_position": null,
            "order": null,
            "overflow": null,
            "overflow_x": null,
            "overflow_y": null,
            "padding": null,
            "right": null,
            "top": null,
            "visibility": null,
            "width": null
          }
        },
        "d68a72711a2a47ca98403be67640a8f2": {
          "model_module": "@jupyter-widgets/base",
          "model_module_version": "1.2.0",
          "model_name": "LayoutModel",
          "state": {
            "_model_module": "@jupyter-widgets/base",
            "_model_module_version": "1.2.0",
            "_model_name": "LayoutModel",
            "_view_count": null,
            "_view_module": "@jupyter-widgets/base",
            "_view_module_version": "1.2.0",
            "_view_name": "LayoutView",
            "align_content": null,
            "align_items": null,
            "align_self": null,
            "border": null,
            "bottom": null,
            "display": null,
            "flex": null,
            "flex_flow": null,
            "grid_area": null,
            "grid_auto_columns": null,
            "grid_auto_flow": null,
            "grid_auto_rows": null,
            "grid_column": null,
            "grid_gap": null,
            "grid_row": null,
            "grid_template_areas": null,
            "grid_template_columns": null,
            "grid_template_rows": null,
            "height": null,
            "justify_content": null,
            "justify_items": null,
            "left": null,
            "margin": null,
            "max_height": null,
            "max_width": null,
            "min_height": null,
            "min_width": null,
            "object_fit": null,
            "object_position": null,
            "order": null,
            "overflow": null,
            "overflow_x": null,
            "overflow_y": null,
            "padding": null,
            "right": null,
            "top": null,
            "visibility": null,
            "width": null
          }
        },
        "d8bebd6c2b92459990e19d3690004edf": {
          "model_module": "@jupyter-widgets/controls",
          "model_module_version": "1.5.0",
          "model_name": "HTMLModel",
          "state": {
            "_dom_classes": [],
            "_model_module": "@jupyter-widgets/controls",
            "_model_module_version": "1.5.0",
            "_model_name": "HTMLModel",
            "_view_count": null,
            "_view_module": "@jupyter-widgets/controls",
            "_view_module_version": "1.5.0",
            "_view_name": "HTMLView",
            "description": "",
            "description_tooltip": null,
            "layout": "IPY_MODEL_c94264912f654554b57f8848d0acbf0f",
            "placeholder": "​",
            "style": "IPY_MODEL_901622d84a504a71b1341c342e3ab073",
            "value": "config.json: 100%"
          }
        },
        "eb469542bb8a4b9bb7a5cc7649c89c41": {
          "model_module": "@jupyter-widgets/base",
          "model_module_version": "1.2.0",
          "model_name": "LayoutModel",
          "state": {
            "_model_module": "@jupyter-widgets/base",
            "_model_module_version": "1.2.0",
            "_model_name": "LayoutModel",
            "_view_count": null,
            "_view_module": "@jupyter-widgets/base",
            "_view_module_version": "1.2.0",
            "_view_name": "LayoutView",
            "align_content": null,
            "align_items": null,
            "align_self": null,
            "border": null,
            "bottom": null,
            "display": null,
            "flex": null,
            "flex_flow": null,
            "grid_area": null,
            "grid_auto_columns": null,
            "grid_auto_flow": null,
            "grid_auto_rows": null,
            "grid_column": null,
            "grid_gap": null,
            "grid_row": null,
            "grid_template_areas": null,
            "grid_template_columns": null,
            "grid_template_rows": null,
            "height": null,
            "justify_content": null,
            "justify_items": null,
            "left": null,
            "margin": null,
            "max_height": null,
            "max_width": null,
            "min_height": null,
            "min_width": null,
            "object_fit": null,
            "object_position": null,
            "order": null,
            "overflow": null,
            "overflow_x": null,
            "overflow_y": null,
            "padding": null,
            "right": null,
            "top": null,
            "visibility": null,
            "width": null
          }
        },
        "f69968ff960a4a30a96871463246f875": {
          "model_module": "@jupyter-widgets/controls",
          "model_module_version": "1.5.0",
          "model_name": "HBoxModel",
          "state": {
            "_dom_classes": [],
            "_model_module": "@jupyter-widgets/controls",
            "_model_module_version": "1.5.0",
            "_model_name": "HBoxModel",
            "_view_count": null,
            "_view_module": "@jupyter-widgets/controls",
            "_view_module_version": "1.5.0",
            "_view_name": "HBoxView",
            "box_style": "",
            "children": [
              "IPY_MODEL_42bb5d2761da40eeb4149ee371e37412",
              "IPY_MODEL_1c895f46b3c348648305b43f29fd6f24",
              "IPY_MODEL_d47970efad814011a432c2292bd620a6"
            ],
            "layout": "IPY_MODEL_6ca2798e845e4afcb83892d881e12e65"
          }
        },
        "fabd5a8da2c1435fab2c9513817cb108": {
          "model_module": "@jupyter-widgets/base",
          "model_module_version": "1.2.0",
          "model_name": "LayoutModel",
          "state": {
            "_model_module": "@jupyter-widgets/base",
            "_model_module_version": "1.2.0",
            "_model_name": "LayoutModel",
            "_view_count": null,
            "_view_module": "@jupyter-widgets/base",
            "_view_module_version": "1.2.0",
            "_view_name": "LayoutView",
            "align_content": null,
            "align_items": null,
            "align_self": null,
            "border": null,
            "bottom": null,
            "display": null,
            "flex": null,
            "flex_flow": null,
            "grid_area": null,
            "grid_auto_columns": null,
            "grid_auto_flow": null,
            "grid_auto_rows": null,
            "grid_column": null,
            "grid_gap": null,
            "grid_row": null,
            "grid_template_areas": null,
            "grid_template_columns": null,
            "grid_template_rows": null,
            "height": null,
            "justify_content": null,
            "justify_items": null,
            "left": null,
            "margin": null,
            "max_height": null,
            "max_width": null,
            "min_height": null,
            "min_width": null,
            "object_fit": null,
            "object_position": null,
            "order": null,
            "overflow": null,
            "overflow_x": null,
            "overflow_y": null,
            "padding": null,
            "right": null,
            "top": null,
            "visibility": null,
            "width": null
          }
        }
      }
    }
  },
  "nbformat": 4,
  "nbformat_minor": 0
}
